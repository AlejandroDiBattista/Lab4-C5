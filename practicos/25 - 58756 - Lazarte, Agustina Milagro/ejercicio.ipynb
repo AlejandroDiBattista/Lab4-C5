{
 "cells": [
  {
   "cell_type": "markdown",
   "metadata": {},
   "source": [
    "# Trabajo práctico 1\n",
    "\n"
   ]
  },
  {
   "cell_type": "markdown",
   "metadata": {},
   "source": [
    "## Ejercicio 1 \n",
    "\n",
    "Escribe una función en Python que procese una lista de cadenas de texto y realice las siguientes acciones:\n",
    "\n",
    "1. Tomar una lista de frases y convertir cada frase en una lista de palabras.\n",
    "1. Luego, debe crear una nueva lista que contenga la cantidad de palabras en cada frase.\n",
    "1. Tambien debe crear un lista que contenga la cantidad de caracteres en cada frase.\n",
    "1. Finalmente, debe imprimir cada frase original junto con la cantidad de palabras que contiene.\n",
    "Ejemplo de uso:\n",
    "```python\n",
    "    frases = [\n",
    "        \"Python es un lenguaje de programación\",\n",
    "        \"Me gusta resolver problemas con código\",\n",
    "        \"Las listas y los bucles son muy útiles\"\n",
    "    ]\n",
    "\n",
    "    procesar_frases(frases)\n",
    "```\n",
    "\n",
    "ejemplo de salida:\n",
    "```bash\n",
    "    La frase: \"Python es un...\"\n",
    "    tiene 6 palabras y 38 caracteres\n",
    "```\n"
   ]
  },
  {
   "cell_type": "code",
   "execution_count": 3,
   "metadata": {},
   "outputs": [
    {
     "name": "stdout",
     "output_type": "stream",
     "text": [
      "La frase: \"soy tecnico programador\" tiene 3 palabras y 23 caracteres.\n",
      "La frase: \"hoy el clima es calido\" tiene 5 palabras y 22 caracteres.\n",
      "La frase: \"la carrera de programador es corta\" tiene 6 palabras y 34 caracteres.\n"
     ]
    }
   ],
   "source": [
    "def procesar_frases(frases):\n",
    "   \n",
    "    cantidad_palabras = []\n",
    "   \n",
    "    cantidad_caracteres = []\n",
    "    \n",
    "\n",
    "    for frase in frases:\n",
    "        \n",
    "        palabras = frase.split()\n",
    "        \n",
    "       \n",
    "        num_palabras = len(palabras)\n",
    "        num_caracteres = len(frase)\n",
    "        \n",
    "        \n",
    "        cantidad_palabras.append(num_palabras)\n",
    "        cantidad_caracteres.append(num_caracteres)\n",
    "        \n",
    "       \n",
    "        print(f'La frase: \"{frase}\" tiene {num_palabras} palabras y {num_caracteres} caracteres.')\n",
    "\n",
    "\n",
    "frases = [\n",
    "    \"soy tecnico programador\",\n",
    "    \"hoy el clima es calido\",\n",
    "    \"la carrera de programador es corta\"\n",
    "]\n",
    "\n",
    "procesar_frases(frases)\n"
   ]
  },
  {
   "cell_type": "markdown",
   "metadata": {},
   "source": [
    "## Ejercicio 2\n",
    "\n",
    "Escribe una función en Python que encuentre los valores de `a`, `b`, y `c` para que la función cuadrática `f(x) = aX^2 + bX + c` pase exactamente por los siguientes puntos:\n",
    "\n",
    "| x  | y  |\n",
    "|---:|---:|\n",
    "|  0 |  0 |\n",
    "|  1 |  8 |\n",
    "|  2 | 12 |\n",
    "|  3 | 12 |\n",
    "|  5 |  0 |\n",
    "\n",
    "### Requisitos:\n",
    "- La función debe explorar posibles valores de `a`, `b`, y `c` utilizando un método de prueba y error.\n",
    "- Debe devolver los valores que hagan que la diferencia entre la función `f(x)` y los valores medidos `y` sea exactamente cero para cada punto.\n",
    "\n",
    "> **Pista**: Los valores de `a`, `b`, y `c` son números pequeños."
   ]
  },
  {
   "cell_type": "code",
   "execution_count": 4,
   "metadata": {},
   "outputs": [
    {
     "name": "stdout",
     "output_type": "stream",
     "text": [
      "No se encontró ninguna solución.\n"
     ]
    }
   ],
   "source": [
    "import itertools\n",
    "\n",
    "def encontrar_coeficientes():\n",
    "  \n",
    "    posibles_valores = range(-10, 11) \n",
    "\n",
    "   \n",
    "    puntos = [(0, 1), (2, 3), (5, 12)]\n",
    "\n",
    "   \n",
    "    for a, b, c in itertools.product(posibles_valores, repeat=3):\n",
    "        coincidencia = True\n",
    "       \n",
    "        for x, y_esperado in puntos:\n",
    "            y_calculado = a * x**2 + b * x + c\n",
    "            if y_calculado != y_esperado:\n",
    "                coincidencia = False\n",
    "                break\n",
    "        \n",
    "        if coincidencia:\n",
    "            return a, b, c\n",
    "\n",
    "    return None  \n",
    "\n",
    "\n",
    "resultado = encontrar_coeficientes()\n",
    "\n",
    "\n",
    "if resultado is not None:\n",
    "    a, b, c = resultado\n",
    "    print(f\"Los coeficientes son: a = {a}, b = {b}, c = {c}\")\n",
    "else:\n",
    "    print(\"No se encontró ninguna solución.\")\n"
   ]
  }
 ],
 "metadata": {
  "kernelspec": {
   "display_name": "Python 3",
   "language": "python",
   "name": "python3"
  },
  "language_info": {
   "codemirror_mode": {
    "name": "ipython",
    "version": 3
   },
   "file_extension": ".py",
   "mimetype": "text/x-python",
   "name": "python",
   "nbconvert_exporter": "python",
   "pygments_lexer": "ipython3",
   "version": "3.12.5"
  }
 },
 "nbformat": 4,
 "nbformat_minor": 2
}
