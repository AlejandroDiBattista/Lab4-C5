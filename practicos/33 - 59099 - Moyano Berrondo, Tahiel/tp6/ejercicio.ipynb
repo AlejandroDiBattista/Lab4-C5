{
 "cells": [
  {
   "cell_type": "markdown",
   "metadata": {},
   "source": [
    "# TP6\n",
    "\n",
    "### `Resolver usando Pandas`\n",
    "\n",
    "Resolver los ejercicios del TP3 utilizando la librería Pandas."
   ]
  },
  {
   "cell_type": "markdown",
   "metadata": {},
   "source": [
    "### Ejercicio 1: Cargar Datos de ventas.\n",
    "\n",
    "El archivo datos.dat contiene el registro de las ventas realizadas.\n",
    "\n",
    "Tiene un formato de ancho fijo:\n",
    "- `fecha`:    10 lugares\n",
    "- `producto`: 30 lugares\n",
    "- `precio`:   10 lugares\n",
    "- `cantidad`:  5 lugares\n",
    "\n",
    "Hacer una funcion que cargue los datos en un DataFrame de Pandas."
   ]
  },
  {
   "cell_type": "code",
   "execution_count": null,
   "metadata": {},
   "outputs": [
    {
     "name": "stdout",
     "output_type": "stream",
     "text": [
      "        fecha    producto  precio  cantidad\n",
      "0  2024-08-27     Mirinda  1510.0        14\n",
      "1  2024-08-27     Mirinda  1560.0        12\n",
      "2  2024-08-28     Torasso   940.0         8\n",
      "3  2024-08-29  Pepsi Cola  1210.0        10\n",
      "4  2024-08-30     Mirinda  1520.0         1\n",
      "5  2024-09-01     Mirinda  1550.0        15\n",
      "6  2024-09-01      Sprite   810.0         4\n",
      "7  2024-09-02   Coca Cola  1100.0         4\n",
      "8  2024-09-02  Pepsi Cola  1220.0        13\n",
      "9  2024-09-02     Torasso   910.0         5\n",
      "10 2024-09-02     Torasso   920.0         3\n",
      "11 2024-09-03   Coca Cola  1020.0         8\n",
      "12 2024-09-03     Mirinda  1570.0         7\n",
      "13 2024-09-03     Mirinda  1590.0         2\n",
      "14 2024-09-04  Pepsi Cola  1220.0        13\n",
      "15 2024-09-05     Mirinda  1500.0         3\n",
      "16 2024-09-05  Pepsi Cola  1300.0         5\n",
      "17 2024-09-06   Coca Cola  1080.0         1\n",
      "18 2024-09-06      Sprite   860.0        12\n",
      "19 2024-09-06     Torasso   930.0         3\n",
      "20 2024-09-07   Coca Cola  1080.0        14\n",
      "21 2024-09-07      Sprite   870.0        13\n",
      "22 2024-09-08   Coca Cola  1040.0        10\n",
      "23 2024-09-08     Mirinda  1580.0         2\n",
      "24 2024-09-08  Pepsi Cola  1240.0         9\n",
      "25 2024-09-09     Mirinda  1500.0         3\n",
      "26 2024-09-09      Sprite   850.0         9\n",
      "27 2024-09-10     Mirinda  1590.0         8\n",
      "28 2024-09-10  Pepsi Cola  1250.0        12\n",
      "29 2024-09-11      Sprite   810.0         6\n",
      "30 2024-09-11      Sprite   820.0        14\n",
      "31 2024-09-12   Coca Cola  1080.0         4\n",
      "32 2024-09-13     Mirinda  1580.0         5\n",
      "33 2024-09-13  Pepsi Cola  1250.0        13\n",
      "34 2024-09-14   Coca Cola  1080.0        15\n",
      "35 2024-09-14  Pepsi Cola  1270.0        14\n",
      "36 2024-09-15   Coca Cola  1100.0         1\n",
      "37 2024-09-15     Mirinda  1500.0        13\n",
      "38 2024-09-15      Sprite   870.0        14\n",
      "39 2024-09-15     Torasso   900.0        13\n"
     ]
    }
   ],
   "source": [
    "import pandas as pd\n",
    "\n",
    "def cargar_datos():\n",
    "    # Define formato de columnas\n",
    "    anchos_columnas = [10, 30, 10, 5]\n",
    "    \n",
    "    # Lee archivo con columnas de ancho fijo\n",
    "    df = pd.read_fwf('datos.dat', widths=anchos_columnas, header=None, names=['fecha', 'producto', 'precio', 'cantidad'])\n",
    "    \n",
    "    # Convierte las columnas a tipos adecuados\n",
    "    df['fecha'] = pd.to_datetime(df['fecha'], format='%Y-%m-%d')  # Ajusta formato de fecha\n",
    "    df['precio'] = df['precio'].astype(float)\n",
    "    df['cantidad'] = df['cantidad'].astype(int)\n",
    "    \n",
    "    return df\n",
    "\n",
    "df = cargar_datos()\n",
    "print(df)\n"
   ]
  },
  {
   "cell_type": "markdown",
   "metadata": {},
   "source": [
    "### Ejercicio 2: Calcular el total de ventas.\n",
    "Hacer una función que sume los importes vendidos (precio * cantidad) y las cantidades.\n"
   ]
  },
  {
   "cell_type": "code",
   "execution_count": null,
   "metadata": {},
   "outputs": [
    {
     "name": "stdout",
     "output_type": "stream",
     "text": [
      "Total importe vendido: 392730\n",
      "Total cantidad vendida: 335\n"
     ]
    }
   ],
   "source": [
    "import pandas as pd\n",
    "\n",
    "def cargar_datos():\n",
    "    anchos_columnas = [10, 30, 10, 5]\n",
    "    \n",
    "    df = pd.read_fwf('datos.dat', widths=anchos_columnas, header=None, names=['fecha', 'producto', 'precio', 'cantidad'])\n",
    "    \n",
    "    # Convierte columnas a tipos adecuados\n",
    "    df['fecha'] = pd.to_datetime(df['fecha'], format='%Y-%m-%d', errors='coerce')\n",
    "    df['precio'] = pd.to_numeric(df['precio'], errors='coerce')  # Convierte a valor numérico\n",
    "    df['cantidad'] = pd.to_numeric(df['cantidad'], errors='coerce')  # Convierte a valor numérico\n",
    "    \n",
    "    return df\n",
    "\n",
    "def calcular_totales(datos):\n",
    "    # Calcula los importes\n",
    "    datos['importe'] = datos['precio'] * datos['cantidad']\n",
    "    \n",
    "    # Calcula los totales\n",
    "    total_importe = datos['importe'].sum()\n",
    "    total_cantidad = datos['cantidad'].sum()\n",
    "    \n",
    "    return total_importe, total_cantidad\n",
    "\n",
    "datos = cargar_datos()\n",
    "if not datos.empty:\n",
    "    total_importe, total_cantidad = calcular_totales(datos)\n",
    "    print(\"Total importe vendido:\", total_importe)\n",
    "    print(\"Total cantidad vendida:\", total_cantidad)\n",
    "else:\n",
    "    print(\"No se pudieron cargar los datos.\")\n"
   ]
  },
  {
   "cell_type": "markdown",
   "metadata": {},
   "source": [
    "### Ejercicio 3: Listar las unidades vendidas.\n",
    "Listar cuántas unidades se vendieron en total para cada producto\n"
   ]
  },
  {
   "cell_type": "code",
   "execution_count": null,
   "metadata": {},
   "outputs": [
    {
     "name": "stdout",
     "output_type": "stream",
     "text": [
      "Total importe vendido: 392730\n",
      "Total cantidad vendida: 335\n",
      "\n",
      "Unidades vendidas por producto:\n",
      "     producto  total_unidades\n",
      "0   Coca Cola              57\n",
      "1     Mirinda              85\n",
      "2  Pepsi Cola              89\n",
      "3      Sprite              72\n",
      "4     Torasso              32\n"
     ]
    }
   ],
   "source": [
    "import pandas as pd\n",
    "\n",
    "def cargar_datos():\n",
    "\n",
    "    anchos_columnas = [10, 30, 10, 5]\n",
    "    \n",
    "   \n",
    "    df = pd.read_fwf('datos.dat', widths=anchos_columnas, header=None, names=['fecha', 'producto', 'precio', 'cantidad'])\n",
    "    \n",
    "\n",
    "    df['fecha'] = pd.to_datetime(df['fecha'], format='%Y-%m-%d', errors='coerce')  \n",
    "    df['precio'] = pd.to_numeric(df['precio'], errors='coerce')  \n",
    "    df['cantidad'] = pd.to_numeric(df['cantidad'], errors='coerce')\n",
    "    \n",
    "    return df\n",
    "\n",
    "def calcular_totales(datos):\n",
    "\n",
    "    datos['importe'] = datos['precio'] * datos['cantidad']\n",
    "    \n",
    "\n",
    "    total_importe = datos['importe'].sum()\n",
    "    total_cantidad = datos['cantidad'].sum()\n",
    "    \n",
    "    return total_importe, total_cantidad\n",
    "\n",
    "def unidades_por_producto(datos):\n",
    "\n",
    "    resumen = datos.groupby('producto')['cantidad'].sum().reset_index()\n",
    "    resumen = resumen.rename(columns={'cantidad': 'total_unidades'})\n",
    "    return resumen\n",
    "\n",
    "datos = cargar_datos()\n",
    "if not datos.empty:\n",
    "    total_importe, total_cantidad = calcular_totales(datos)\n",
    "    print(\"Total importe vendido:\", total_importe)\n",
    "    print(\"Total cantidad vendida:\", total_cantidad)\n",
    "    \n",
    "    resumen_productos = unidades_por_producto(datos)\n",
    "    print(\"\\nUnidades vendidas por producto:\")\n",
    "    print(resumen_productos)\n",
    "else:\n",
    "    print(\"No se pudieron cargar los datos.\")\n"
   ]
  },
  {
   "cell_type": "markdown",
   "metadata": {},
   "source": [
    "###  Ejercicio 4: Listar el precio promedio por producto.\n",
    "Hacer un listado del precio promedio por producto.\n"
   ]
  },
  {
   "cell_type": "code",
   "execution_count": null,
   "metadata": {},
   "outputs": [
    {
     "name": "stdout",
     "output_type": "stream",
     "text": [
      "Total importe vendido: 392730\n",
      "Total cantidad vendida: 335\n"
     ]
    }
   ],
   "source": [
    "import pandas as pd\n",
    "\n",
    "def cargar_datos():\n",
    "   \n",
    "    anchos_columnas = [10, 30, 10, 5]\n",
    "    \n",
    "    df = pd.read_fwf('datos.dat', widths=anchos_columnas, header=None, names=['fecha', 'producto', 'precio', 'cantidad'])\n",
    "    \n",
    "\n",
    "    df['fecha'] = pd.to_datetime(df['fecha'], format='%Y-%m-%d', errors='coerce')  \n",
    "    df['precio'] = pd.to_numeric(df['precio'], errors='coerce')  \n",
    "    df['cantidad'] = pd.to_numeric(df['cantidad'], errors='coerce')\n",
    "    \n",
    "    return df\n",
    "\n",
    "def calcular_totales(datos):\n",
    "    datos['importe'] = datos['precio'] * datos['cantidad']\n",
    "    \n",
    "    total_importe = datos['importe'].sum()\n",
    "    total_cantidad = datos['cantidad'].sum()\n",
    "    \n",
    "    return total_importe, total_cantidad\n",
    "\n",
    "def unidades_por_producto(datos):\n",
    "    resumen = datos.groupby('producto')['cantidad'].sum().reset_index()\n",
    "    resumen = resumen.rename(columns={'cantidad': 'total_unidades'})\n",
    "    return resumen\n",
    "\n",
    "def precio_promedio_por_producto(datos):\n",
    "\n",
    "    resumen = datos.groupby('producto')['precio'].mean().reset_index()\n",
    "    resumen = resumen.rename(columns={'precio': 'precio_promedio'})\n",
    "    return resumen\n",
    "\n",
    "datos = cargar_datos()\n",
    "if not datos.empty:\n",
    "    total_importe, total_cantidad = calcular_totales(datos)\n",
    "    print(\"Total importe vendido:\", total_importe)\n",
    "    print(\"Total cantidad vendida:\", total_cantidad)\n",
    "    \n",
    "    resumen_productos = unidades_por_producto(datos)\n",
    "  \n"
   ]
  },
  {
   "cell_type": "markdown",
   "metadata": {},
   "source": [
    "### Ejercicio 5: Ranking de productos\n",
    "Realizar un listado de los 3 productos más vendidos ordenados por la cantidad de unidades vendidas (ordenadas de mayor a menor)\n"
   ]
  },
  {
   "cell_type": "code",
   "execution_count": null,
   "metadata": {},
   "outputs": [
    {
     "name": "stdout",
     "output_type": "stream",
     "text": [
      "\n",
      "Top 3 productos más vendidos:\n",
      "     producto  total_unidades\n",
      "2  Pepsi Cola              89\n",
      "1     Mirinda              85\n",
      "3      Sprite              72\n"
     ]
    }
   ],
   "source": [
    "import pandas as pd\n",
    "\n",
    "def cargar_datos():\n",
    "    anchos_columnas = [10, 30, 10, 5]\n",
    "    df = pd.read_fwf('datos.dat', widths=anchos_columnas, header=None, names=['fecha', 'producto', 'precio', 'cantidad'])\n",
    "    df['fecha'] = pd.to_datetime(df['fecha'], format='%Y-%m-%d', errors='coerce')\n",
    "    df['precio'] = pd.to_numeric(df['precio'], errors='coerce')\n",
    "    df['cantidad'] = pd.to_numeric(df['cantidad'], errors='coerce')\n",
    "    \n",
    "    return df\n",
    "\n",
    "def top_productos_mas_vendidos(datos, n=3):\n",
    "\n",
    "    resumen = datos.groupby('producto')['cantidad'].sum().reset_index()  \n",
    "    resumen = resumen.rename(columns={'cantidad': 'total_unidades'})\n",
    "    resumen = resumen.sort_values(by='total_unidades', ascending=False)\n",
    "    \n",
    "    return resumen.head(n)\n",
    "\n",
    "datos = cargar_datos()\n",
    "if not datos.empty:\n",
    "    top_productos = top_productos_mas_vendidos(datos)\n",
    "    print(\"\\nTop 3 productos más vendidos:\")\n",
    "    print(top_productos)\n",
    "else:\n",
    "    print(\"No se pudieron cargar los datos.\")\n"
   ]
  },
  {
   "cell_type": "markdown",
   "metadata": {},
   "source": [
    "### Ejercicio 6: Listar las ventas por mes\n",
    "Realizar un listado del total de unidades vendidas por producto separado por mes.\n"
   ]
  },
  {
   "cell_type": "code",
   "execution_count": 7,
   "metadata": {},
   "outputs": [
    {
     "name": "stdout",
     "output_type": "stream",
     "text": [
      "\n",
      "Total de unidades vendidas por producto y mes:\n",
      "     producto      mes  total_unidades\n",
      "0   Coca Cola  2024-09              57\n",
      "1     Mirinda  2024-08              27\n",
      "2     Mirinda  2024-09              58\n",
      "3  Pepsi Cola  2024-08              10\n",
      "4  Pepsi Cola  2024-09              79\n",
      "5      Sprite  2024-09              72\n",
      "6     Torasso  2024-08               8\n",
      "7     Torasso  2024-09              24\n"
     ]
    }
   ],
   "source": [
    "import pandas as pd\n",
    "\n",
    "def cargar_datos():\n",
    "    \n",
    "    anchos_columnas = [10, 30, 10, 5]\n",
    "    df = pd.read_fwf('datos.dat', widths=anchos_columnas, header=None, names=['fecha', 'producto', 'precio', 'cantidad'])\n",
    "    df['fecha'] = pd.to_datetime(df['fecha'], format='%Y-%m-%d', errors='coerce')  \n",
    "    df['precio'] = pd.to_numeric(df['precio'], errors='coerce')  \n",
    "    df['cantidad'] = pd.to_numeric(df['cantidad'], errors='coerce') \n",
    "    \n",
    "    return df\n",
    "\n",
    "def unidades_por_producto_y_mes(datos):\n",
    "\n",
    "    datos['mes'] = datos['fecha'].dt.to_period('M')\n",
    "    resumen = datos.groupby(['producto', 'mes'])['cantidad'].sum().reset_index()\n",
    "    resumen = resumen.rename(columns={'cantidad': 'total_unidades'})\n",
    "    return resumen\n",
    "\n",
    "datos = cargar_datos()\n",
    "if not datos.empty:\n",
    "    resumen_por_mes = unidades_por_producto_y_mes(datos)\n",
    "    print(\"\\nTotal de unidades vendidas por producto y mes:\")\n",
    "    print(resumen_por_mes)\n",
    "else:\n",
    "    print(\"No se pudieron cargar los datos.\")\n"
   ]
  },
  {
   "cell_type": "markdown",
   "metadata": {},
   "source": [
    "### Ejercicio 7: Informe general\n",
    "\n",
    "Mostrar un listado de productos ordenados alfabeticamente que contengan el precio promedio, la cantidad de unidades vendidas y el importe total vendido para cada producto"
   ]
  },
  {
   "cell_type": "code",
   "execution_count": null,
   "metadata": {},
   "outputs": [],
   "source": [
    "import pandas as pd\n",
    "\n",
    "def cargar_datos():\n",
    "    anchos_columnas = [10, 30, 10, 5]\n",
    "    df = pd.read_fwf('datos.dat', widths=anchos_columnas, header=None, names=['fecha', 'producto', 'precio', 'cantidad'])\n",
    "    df['fecha'] = pd.to_datetime(df['fecha'], format='%Y-%m-%d', errors='coerce')  \n",
    "    df['precio'] = pd.to_numeric(df['precio'], errors='coerce')  \n",
    "    df['cantidad'] = pd.to_numeric(df['cantidad'], errors='coerce') \n",
    "    \n",
    "    return df\n",
    "\n",
    "def resumen_por_producto(datos):\n",
    "    datos['importe'] = datos['precio'] * datos['cantidad']\n",
    "    resumen = datos.groupby('producto').agg(\n",
    "        precio_promedio=('precio', 'mean'),\n",
    "        total_unidades=('cantidad', 'sum'),\n",
    "        importe_total=('importe', 'sum')\n",
    "    ).reset_index()\n",
    "    \n",
    "    resumen = resumen.sort_values(by='producto')\n",
    "    \n",
    "    return resumen\n",
    "\n",
    "datos = cargar_datos()\n",
    "if not datos.empty:\n",
    "    resumen_productos = resumen_por_producto(datos)\n",
    "    print(\"\\nResumen por producto (ordenado alfabéticamente):\")\n",
    "    print(resumen_productos)\n",
    "else:\n",
    "    print(\"No se pudieron cargar los datos.\")\n"
   ]
  },
  {
   "cell_type": "markdown",
   "metadata": {},
   "source": [
    "## `Resolver usando NumPy`\n",
    "## Resolver el ejercicio 2 del tp1 usando NumPy"
   ]
  },
  {
   "cell_type": "markdown",
   "metadata": {},
   "source": [
    "### Ejercicio 8\n",
    "\n",
    "Escribe una función en Python que encuentre los valores de `a`, `b`, y `c` para que la función cuadrática `f(x) = a x^2 + b x + c` pase exactamente por los siguientes puntos:\n",
    "\n",
    "| x  | y  |\n",
    "|---:|---:|\n",
    "|  0 |  0 |\n",
    "|  1 |  8 |\n",
    "|  2 | 12 |\n",
    "|  3 | 12 |\n",
    "|  5 |  0 |\n",
    "\n",
    "### Requisitos:\n",
    "- La función debe explorar posibles valores de `a`, `b`, y `c` utilizando un método de prueba y error.\n",
    "- Debe devolver los valores que hagan que la diferencia entre la función `f(x)` y los valores medidos `y` sea exactamente cero para cada punto.\n",
    "\n",
    "> **Pista**: Los valores de `a`, `b`, y `c` son números pequeños.\n",
    "\n",
    "La idea es implementar el mismo algoritmo que se uso en el TP1 pero usando NumPy en lugar de Python puro."
   ]
  },
  {
   "cell_type": "code",
   "execution_count": null,
   "metadata": {},
   "outputs": [
    {
     "data": {
      "text/plain": [
       "(-2, 10, 0)"
      ]
     },
     "execution_count": 9,
     "metadata": {},
     "output_type": "execute_result"
    }
   ],
   "source": [
    "import numpy as np\n",
    "\n",
    "def f(x, coeficientes):\n",
    "    a, b, c = coeficientes\n",
    "    return a * x**2 + b * x + c\n",
    "\n",
    "def error(y, y_pred):\n",
    "    return y - y_pred\n",
    "\n",
    "X = np.array([0, 1, 2, 3, 5])\n",
    "Y = np.array([0, 8, 12, 12, 0])\n",
    "\n",
    "def buscar_coeficientes():\n",
    "    rango = np.arange(-10, 11, 1)\n",
    "    for a in rango:\n",
    "        for b in rango:\n",
    "            for c in rango:\n",
    "                coeficientes = (a, b, c)\n",
    "                Y_pred = f(X, coeficientes)\n",
    "                errores = error(Y, Y_pred)\n",
    "                if np.all(errores == 0):\n",
    "                      return tuple(map(int, coeficientes))\n",
    "    return None\n",
    "coeficientes = buscar_coeficientes()\n",
    "coeficientes"
   ]
  },
  {
   "cell_type": "markdown",
   "metadata": {},
   "source": [
    "### Ejercicio 9: Resolver el ejercicio 3 del TP1 usando NumPy\n",
    "Buscar los coeficientes de la función que minimice la suma de los cuadrados de las diferencias entre los valores medidos y los valores de la función.\n",
    "\n",
    "1. Crear un array con los coeficientes elegidos al azar (usar `randint(-10,10,3)`).\n",
    "2. Calcular el valor de la función y el error correspondiente.\n",
    "3. Mientras que el error sea mayor a 1:\n",
    "    1. Definir nuevos coeficientes agregándoles un pequeño valor al azar a los coeficientes actuales (aprendizaje = 0.001).\n",
    "    2. Si el error para los nuevos coeficientes es menor que el anterior, reemplazar los coeficientes actuales por los nuevos.\n"
   ]
  },
  {
   "cell_type": "code",
   "execution_count": null,
   "metadata": {},
   "outputs": [
    {
     "data": {
      "text/plain": [
       "(-1.9018515361300086, 9.692812534589656, -0.14531239534934468)"
      ]
     },
     "execution_count": 10,
     "metadata": {},
     "output_type": "execute_result"
    }
   ],
   "source": [
    "import numpy as np\n",
    "from numpy.random import randint\n",
    "\n",
    "def f(x, coeficientes):\n",
    "    a, b, c = coeficientes\n",
    "    return a * x**2 + b * x + c\n",
    "\n",
    "def error(y, y_pred):\n",
    "    return np.sum((y - y_pred) ** 2)\n",
    "\n",
    "X = np.array([0, 1, 2, 3, 5])\n",
    "Y = np.array([0, 8, 12, 11, 1])\n",
    "\n",
    "def buscar_coeficientes():\n",
    "    coeficientes = randint(-10, 10, 3)\n",
    "    aprendizaje = 0.001\n",
    "    error_actual = error(Y, f(X, coeficientes))\n",
    "    \n",
    "    while error_actual > 1:\n",
    "        nuevos_coeficientes = coeficientes + aprendizaje * np.random.uniform(-1, 1, 3)\n",
    "        error_nuevo = error(Y, f(X, nuevos_coeficientes))\n",
    "        \n",
    "        if error_nuevo < error_actual:\n",
    "            coeficientes = nuevos_coeficientes\n",
    "            error_actual = error_nuevo\n",
    "    \n",
    "    return tuple(map(float, coeficientes))\n",
    "\n",
    "coeficientes = buscar_coeficientes()\n",
    "coeficientes\n"
   ]
  }
 ],
 "metadata": {
  "kernelspec": {
   "display_name": "Python 3",
   "language": "python",
   "name": "python3"
  },
  "language_info": {
   "codemirror_mode": {
    "name": "ipython",
    "version": 3
   },
   "file_extension": ".py",
   "mimetype": "text/x-python",
   "name": "python",
   "nbconvert_exporter": "python",
   "pygments_lexer": "ipython3",
   "version": "3.13.0"
  }
 },
 "nbformat": 4,
 "nbformat_minor": 2
}
