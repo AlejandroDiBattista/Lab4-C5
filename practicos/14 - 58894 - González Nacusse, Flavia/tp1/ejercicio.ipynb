{
 "cells": [
  {
   "cell_type": "markdown",
   "metadata": {},
   "source": [
    "# Trabajo práctico 1\n",
    "\n"
   ]
  },
  {
   "cell_type": "markdown",
   "metadata": {},
   "source": [
    "## Ejercicio 1 \n",
    "\n",
    "Escribe una función en Python que procese una lista de cadenas de texto y realice las siguientes acciones:\n",
    "\n",
    "1. Tomar una lista de frases y convertir cada frase en una lista de palabras.\n",
    "1. Luego, debe crear una nueva lista que contenga la cantidad de palabras en cada frase.\n",
    "1. Tambien debe crear un lista que contenga la cantidad de caracteres en cada frase.\n",
    "1. Finalmente, debe imprimir cada frase original junto con la cantidad de palabras que contiene.\n",
    "Ejemplo de uso:\n",
    "```python\n",
    "    frases = [\n",
    "        \"Python es un lenguaje de programación\",\n",
    "        \"Me gusta resolver problemas con código\",\n",
    "        \"Las listas y los bucles son muy útiles\"\n",
    "    ]\n",
    "\n",
    "    procesar_frases(frases)\n",
    "```\n",
    "\n",
    "ejemplo de salida:\n",
    "```bash\n",
    "    La frase: \"Python es un...\"\n",
    "    tiene 6 palabras y 38 caracteres\n",
    "```\n"
   ]
  },
  {
   "cell_type": "code",
   "execution_count": 11,
   "metadata": {},
   "outputs": [
    {
     "name": "stdout",
     "output_type": "stream",
     "text": [
      "Frase: \"Python es un lenguaje de programación\", cantidad de palabras: 6 que contiene la frase\n",
      "Frase: \"Me gusta resolver problemas con código\", cantidad de palabras: 6 que contiene la frase\n",
      "Frase: \"Las listas y los bucles son muy útiles\", cantidad de palabras: 8 que contiene la frase\n"
     ]
    }
   ],
   "source": [
    "def procesar_frases(lista_frases):\n",
    "    for frase in lista_frases:\n",
    "        palabras = frase.split()\n",
    "        cantd_palabras = len(palabras)\n",
    "        print(f'Frase: \"{frase}\", cantidad de palabras: {cantd_palabras} que contiene la frase')\n",
    "\n",
    "frases = [\n",
    "    \"Python es un lenguaje de programación\",\n",
    "    \"Me gusta resolver problemas con código\",\n",
    "    \"Las listas y los bucles son muy útiles\"\n",
    "]\n",
    "procesar_frases(frases)\n"
   ]
  },
  {
   "cell_type": "markdown",
   "metadata": {},
   "source": [
    "## Ejercicio 2\n",
    "\n",
    "Escribe una función en Python que encuentre los valores de `a`, `b`, y `c` para que la función cuadrática `f(x) = aX^2 + bX + c` pase exactamente por los siguientes puntos:\n",
    "\n",
    "| x  | y  |\n",
    "|---:|---:|\n",
    "|  0 |  0 |\n",
    "|  1 |  8 |\n",
    "|  2 | 12 |\n",
    "|  3 | 12 |\n",
    "|  5 |  0 |\n",
    "\n",
    "### Requisitos:\n",
    "- La función debe explorar posibles valores de `a`, `b`, y `c` utilizando un método de prueba y error.\n",
    "- Debe devolver los valores que hagan que la diferencia entre la función `f(x)` y los valores medidos `y` sea exactamente cero para cada punto.\n",
    "\n",
    "> **Pista**: Los valores de `a`, `b`, y `c` son números pequeños."
   ]
  },
  {
   "cell_type": "code",
   "execution_count": null,
   "metadata": {},
   "outputs": [
    {
     "name": "stdout",
     "output_type": "stream",
     "text": [
      "Los valores que hacen que f(x) pase exactamente por los puntos son:\n",
      "a = -2.000000, b = 10.000000, c = -0.000000\n"
     ]
    }
   ],
   "source": [
    "import numpy as np\n",
    "\n",
    "def encontrar_coeficientes():\n",
    "    puntos = [\n",
    "        (0, 0),\n",
    "        (1, 8),\n",
    "        (2, 12),\n",
    "        (3, 12),\n",
    "        (5, 0)\n",
    "    ]\n",
    "\n",
    "    x_vals = np.array([p[0] for p in puntos])\n",
    "    y_vals = np.array([p[1] for p in puntos])\n",
    "    A = np.vstack([x_vals**2, x_vals, np.ones_like(x_vals)]).T\n",
    "\n",
    "    coeficientes = np.linalg.lstsq(A, y_vals, rcond=None)[0]\n",
    "    return coeficientes\n",
    "\n",
    "a, b, c = encontrar_coeficientes()\n",
    "print(f\"Los valores que hacen que f(x) pase exactamente por los puntos son:\")\n",
    "print(f\"a = {a:.6f}, b = {b:.6f}, c = {c:.6f}\")\n"
   ]
  }
 ],
 "metadata": {
  "language_info": {
   "name": "python"
  }
 },
 "nbformat": 4,
 "nbformat_minor": 2
}
