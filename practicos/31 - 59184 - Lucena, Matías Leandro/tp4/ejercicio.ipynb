{
 "cells": [
  {
   "cell_type": "markdown",
   "metadata": {},
   "source": [
    "# Simulación del Truco"
   ]
  },
  {
   "cell_type": "markdown",
   "metadata": {},
   "source": [
    "Las **cartas** deben registra el numero, palo y valor de la carta. \n",
    "El valor debe reflejar la jerarquía de las cartas en el juego del truco."
   ]
  },
  {
   "cell_type": "code",
   "execution_count": 6,
   "metadata": {},
   "outputs": [
    {
     "name": "stdout",
     "output_type": "stream",
     "text": [
      "1 de espada (valor: 14)\n"
     ]
    }
   ],
   "source": [
    "\n",
    "def calcular_valor(numero, palo):\n",
    "    if numero == 1 and palo == \"espada\":\n",
    "        return 14  # 1 de espada, más alta\n",
    "    elif numero == 1 and palo == \"basto\":\n",
    "        return 13  # 1 de basto\n",
    "    elif numero == 7 and palo == \"espada\":\n",
    "        return 12\n",
    "    elif numero == 7 and palo == \"oro\":\n",
    "        return 11\n",
    "    elif numero == 3:\n",
    "        return 10\n",
    "    elif numero == 2:\n",
    "        return 9\n",
    "    elif numero == 1:\n",
    "        return 8\n",
    "    elif numero == 12:\n",
    "        return 7\n",
    "    elif numero == 11:\n",
    "        return 6\n",
    "    elif numero == 10:\n",
    "        return 5\n",
    "    elif numero == 7:\n",
    "        return 4\n",
    "    elif numero == 6:\n",
    "        return 3\n",
    "    elif numero == 5:\n",
    "        return 2\n",
    "    elif numero == 4:\n",
    "        return 1\n",
    "    else:\n",
    "        return 0\n",
    "\n",
    "\n",
    "class Carta:\n",
    "    def __init__(self, numero, palo):\n",
    "        self.numero = numero\n",
    "        self.palo = palo\n",
    "        self.valor = calcular_valor(numero, palo)\n",
    "\n",
    "    def __str__(self):\n",
    "        return f\"{self.numero} de {self.palo} (valor: {self.valor})\"\n",
    "\n",
    "# Ejemplo de uso:\n",
    "carta = Carta(1, \"espada\")\n",
    "print(carta)  \n",
    "\n"
   ]
  },
  {
   "cell_type": "markdown",
   "metadata": {},
   "source": [
    "**Mazo**: Representan las cartas españolas de 1 al 12, en los palos de oro, copa, espada y basto.\n",
    "\n",
    "Debe existir una función que permita barajar las cartas.\n",
    "y otra función que permita repartir las cartas a los jugadores."
   ]
  },
  {
   "cell_type": "code",
   "execution_count": 7,
   "metadata": {},
   "outputs": [
    {
     "name": "stdout",
     "output_type": "stream",
     "text": [
      "6 de copa (valor: 3)\n",
      "1 de oro (valor: 8)\n",
      "12 de espada (valor: 7)\n"
     ]
    }
   ],
   "source": [
    "import random\n",
    "\n",
    "class Mazo:\n",
    "    def __init__(self):\n",
    "        self.cartas = []\n",
    "        palos = [\"oro\", \"copa\", \"espada\", \"basto\"]\n",
    "        for palo in palos:\n",
    "            for numero in range(1, 13):\n",
    "                if numero != 8 and numero != 9:  # No hay 8 ni 9 en el Truco\n",
    "                    self.cartas.append(Carta(numero, palo))\n",
    "\n",
    "    def mezclar(self):\n",
    "        random.shuffle(self.cartas)\n",
    "\n",
    "    def repartir(self, cantidad):\n",
    "        repartidas = []\n",
    "        for _ in range(cantidad):\n",
    "            if self.cartas:  \n",
    "                repartidas.append(self.cartas.pop(0)) \n",
    "        return repartidas\n",
    "\n",
    "# Ejemplo de uso:\n",
    "m = Mazo()\n",
    "m.mezclar()\n",
    "cartas_repartidas = m.repartir(3)\n",
    "for carta in cartas_repartidas:\n",
    "    print(carta)  \n",
    "\n"
   ]
  },
  {
   "cell_type": "markdown",
   "metadata": {},
   "source": [
    "**Jugador**: Deben tener un nombre y las cartas que tiene en la mano. Debe acumular los puntos ganados.\n",
    "\n",
    "Nota: Para simplificar el problema, el jugador elige la carta a jugar de forma aleatoria."
   ]
  },
  {
   "cell_type": "code",
   "execution_count": 8,
   "metadata": {},
   "outputs": [
    {
     "name": "stdout",
     "output_type": "stream",
     "text": [
      "Juan juega: 3 de espada (valor: 10)\n"
     ]
    }
   ],
   "source": [
    "# Clase Jugador que representa a un jugador de Truco\n",
    "class Jugador:\n",
    "    def __init__(self, nombre):\n",
    "        self.nombre = nombre\n",
    "        self.cartas = []\n",
    "        self.puntos = 0\n",
    "\n",
    "    def recibir_cartas(self, cartas):\n",
    "        self.cartas.extend(cartas)  \n",
    "\n",
    "    def jugar_carta(self):\n",
    "        if self.cartas:\n",
    "            carta_jugada = random.choice(self.cartas)  \n",
    "            self.cartas.remove(carta_jugada)  \n",
    "            return carta_jugada\n",
    "        return None\n",
    "\n",
    "    def __str__(self):\n",
    "        return f\"{self.nombre} (puntos: {self.puntos})\"\n",
    "\n",
    "\n",
    "jugador = Jugador(\"Juan\")\n",
    "jugador.recibir_cartas(m.repartir(3))  \n",
    "print(f\"{jugador.nombre} juega: {jugador.jugar_carta()}\")  \n",
    "\n"
   ]
  },
  {
   "cell_type": "markdown",
   "metadata": {},
   "source": [
    "**Partida**: Debe tener dos jugadores, un mazo de cartas y un puntaje. Debe permitir jugar una carta por ronda y definir el ganador de la ronda. Debe permitir jugar hasta que se terminen las cartas del mazo."
   ]
  },
  {
   "cell_type": "code",
   "execution_count": 9,
   "metadata": {},
   "outputs": [
    {
     "name": "stdout",
     "output_type": "stream",
     "text": [
      "Juan juega 7 de basto (valor: 4)\n",
      "Pedro juega 11 de basto (valor: 6)\n",
      "Gana Pedro\n",
      "Juan juega 4 de oro (valor: 1)\n",
      "Pedro juega 5 de basto (valor: 2)\n",
      "Gana Pedro\n",
      "Juan juega 5 de espada (valor: 2)\n",
      "Pedro juega 3 de copa (valor: 10)\n",
      "Gana Pedro\n",
      "Juan juega 6 de basto (valor: 3)\n",
      "Pedro juega 6 de copa (valor: 3)\n",
      "Empate\n",
      "Juan juega 2 de oro (valor: 9)\n",
      "Pedro juega 7 de copa (valor: 4)\n",
      "Gana Juan\n",
      "Juan juega 3 de basto (valor: 10)\n",
      "Pedro juega 3 de espada (valor: 10)\n",
      "Empate\n",
      "Juan juega 1 de oro (valor: 8)\n",
      "Pedro juega 11 de oro (valor: 6)\n",
      "Gana Juan\n",
      "Juan juega 2 de espada (valor: 9)\n",
      "Pedro juega 5 de oro (valor: 2)\n",
      "Gana Juan\n",
      "Juan juega 7 de oro (valor: 11)\n",
      "Pedro juega 7 de espada (valor: 12)\n",
      "Gana Pedro\n",
      "Juan juega 4 de espada (valor: 1)\n",
      "Pedro juega 11 de copa (valor: 6)\n",
      "Gana Pedro\n",
      "Juan juega 10 de basto (valor: 5)\n",
      "Pedro juega 4 de basto (valor: 1)\n",
      "Gana Juan\n",
      "Juan juega 10 de copa (valor: 5)\n",
      "Pedro juega 1 de espada (valor: 14)\n",
      "Gana Pedro\n",
      "Juan juega 11 de espada (valor: 6)\n",
      "Pedro juega 2 de copa (valor: 9)\n",
      "Gana Pedro\n",
      "Juan juega 12 de basto (valor: 7)\n",
      "Pedro juega 5 de copa (valor: 2)\n",
      "Gana Juan\n",
      "Juan juega 1 de copa (valor: 8)\n",
      "Pedro juega 1 de basto (valor: 13)\n",
      "Gana Pedro\n",
      "Juan juega 6 de oro (valor: 3)\n",
      "Pedro juega 10 de espada (valor: 5)\n",
      "Gana Pedro\n",
      "Juan juega 3 de oro (valor: 10)\n",
      "Pedro juega 12 de espada (valor: 7)\n",
      "Gana Juan\n",
      "Juan juega 2 de basto (valor: 9)\n",
      "Pedro juega 6 de espada (valor: 3)\n",
      "Gana Juan\n",
      "Juan juega 12 de copa (valor: 7)\n",
      "Pedro juega 12 de oro (valor: 7)\n",
      "Empate\n",
      "No hay suficientes cartas para continuar la ronda.\n"
     ]
    }
   ],
   "source": [
    "# Clase Partida que representa un juego de Truco\n",
    "class Partida:\n",
    "    def __init__(self, jugador1, jugador2):\n",
    "        self.jugador1 = jugador1\n",
    "        self.jugador2 = jugador2\n",
    "        self.mazo = Mazo()  \n",
    "\n",
    "    def jugar_ronda(self):\n",
    "        carta1 = self.jugador1.jugar_carta()\n",
    "        carta2 = self.jugador2.jugar_carta()\n",
    "        if carta1 is None or carta2 is None:\n",
    "            print(\"No hay suficientes cartas para continuar la ronda.\")\n",
    "            return False\n",
    "\n",
    "        print(f\"{self.jugador1.nombre} juega {carta1}\")\n",
    "        print(f\"{self.jugador2.nombre} juega {carta2}\")\n",
    "\n",
    "        if carta1.valor > carta2.valor:\n",
    "            print(f\"Gana {self.jugador1.nombre}\")\n",
    "            self.jugador1.puntos += 1\n",
    "        elif carta2.valor > carta1.valor:\n",
    "            print(f\"Gana {self.jugador2.nombre}\")\n",
    "            self.jugador2.puntos += 1\n",
    "        else:\n",
    "            print(\"Empate\")\n",
    "        return True\n",
    "\n",
    "    def jugar(self):\n",
    "        self.mazo.mezclar()\n",
    "        self.jugador1.recibir_cartas(self.mazo.repartir(3))\n",
    "        self.jugador2.recibir_cartas(self.mazo.repartir(3))\n",
    "\n",
    "        while self.jugador1.puntos < 15 and self.jugador2.puntos < 15:\n",
    "            if not self.jugar_ronda():  \n",
    "                break\n",
    "\n",
    "            \n",
    "            if not self.jugador1.cartas and not self.jugador2.cartas:\n",
    "                self.jugador1.recibir_cartas(self.mazo.repartir(3))\n",
    "                self.jugador2.recibir_cartas(self.mazo.repartir(3))\n",
    "\n",
    "                if not self.jugador1.cartas or not self.jugador2.cartas:  \n",
    "                    print(\"No quedan más cartas. Fin de la partida.\")\n",
    "                    break\n",
    "\n",
    "        \n",
    "        if self.jugador1.puntos >= 15:\n",
    "            print(f\"{self.jugador1.nombre} ha ganado la partida\")\n",
    "        elif self.jugador2.puntos >= 15:\n",
    "            print(f\"{self.jugador2.nombre} ha ganado la partida\")\n",
    "\n",
    "# Ejemplo de uso:\n",
    "p = Partida(Jugador(\"Juan\"), Jugador(\"Pedro\"))\n",
    "p.jugar()\n",
    "\n"
   ]
  }
 ],
 "metadata": {
  "kernelspec": {
   "display_name": "Python 3",
   "language": "python",
   "name": "python3"
  },
  "language_info": {
   "codemirror_mode": {
    "name": "ipython",
    "version": 3
   },
   "file_extension": ".py",
   "mimetype": "text/x-python",
   "name": "python",
   "nbconvert_exporter": "python",
   "pygments_lexer": "ipython3",
   "version": "3.12.5"
  }
 },
 "nbformat": 4,
 "nbformat_minor": 2
}
