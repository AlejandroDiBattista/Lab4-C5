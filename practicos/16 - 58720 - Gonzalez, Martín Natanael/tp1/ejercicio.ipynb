{
 "cells": [
  {
   "cell_type": "markdown",
   "metadata": {},
   "source": [
    "# Trabajo práctico 1\n",
    "\n"
   ]
  },
  {
   "cell_type": "markdown",
   "metadata": {},
   "source": [
    "## Ejercicio 1 \n",
    "\n",
    "Escribe una función en Python que procese una lista de cadenas de texto y realice las siguientes acciones:\n",
    "\n",
    "1. La función debe tomar una lista de frases y convertir cada frase en una lista de palabras.\n",
    "1.  Luego, debe crear una nueva lista que contenga la cantidad de palabras en cada frase.\n",
    "1. Finalmente, la función debe imprimir cada frase original junto con la cantidad de palabras que contiene.\n",
    "Ejemplo de uso:\n",
    "```python\n",
    "    frases = [\n",
    "        \"Python es un lenguaje de programación\",\n",
    "        \"Me gusta resolver problemas con código\",\n",
    "        \"Las listas y los bucles son muy útiles\"\n",
    "    ]\n",
    "\n",
    "    procesar_frases(frases)\n",
    "```\n",
    "Requisitos:\n",
    "La función debe utilizar un bucle for para iterar sobre la lista de frases y contar las palabras en cada una.\n",
    "Debe crear y devolver una nueva lista con los conteos de palabras, y luego imprimir el resultado de forma clara."
   ]
  },
  {
   "cell_type": "code",
   "execution_count": 8,
   "metadata": {},
   "outputs": [
    {
     "name": "stdout",
     "output_type": "stream",
     "text": [
      "hola - contiene 1 palabras y 4 caracteres\n",
      "Python es un lenguaje de programación - contiene 6 palabras y 37 caracteres\n",
      "Me gusta resolver problemas con código - contiene 6 palabras y 38 caracteres\n",
      "Las listas y los bucles son muy útiles - contiene 8 palabras y 38 caracteres\n"
     ]
    }
   ],
   "source": [
    "# Implementar\n",
    "\n",
    "def procesar_frases(frases):\n",
    "    array_frases=[]\n",
    "    cantidad_palabras=[]\n",
    "    cantidad_caracteres=[]\n",
    "    if len(frases) == 0:\n",
    "        return \"no hay frases\"\n",
    "    \n",
    "    for i in range(0,len(frases)):\n",
    "        array_frases.append(frases[i].split())\n",
    "        cantidad_palabras.append(len(array_frases[i]))\n",
    "        cantidad_caracteres.append(len(frases[i]))\n",
    "\n",
    "        print(f\"{frases[i]} - contiene {cantidad_palabras[i]} palabras y {cantidad_caracteres[i]} caracteres\")\n",
    "       \n",
    "    \n",
    "\n",
    "frases = [\n",
    "        \"hola\",\n",
    "        \"Python es un lenguaje de programación\",\n",
    "        \"Me gusta resolver problemas con código\",\n",
    "        \"Las listas y los bucles son muy útiles\"\n",
    "    ]\n",
    "procesar_frases(frases)"
   ]
  },
  {
   "cell_type": "markdown",
   "metadata": {},
   "source": [
    "## Ejercicio 2\n",
    "\n",
    "Escribe una función en Python que encuentre los valores de `a`, `b`, y `c` para que la función cuadrática `f(x) = a x^2 + b x + c` pase exactamente por los siguientes puntos:\n",
    "\n",
    "| x  | y  |\n",
    "|---:|---:|\n",
    "|  0 |  0 |\n",
    "|  1 |  8 |\n",
    "|  2 | 12 |\n",
    "|  3 | 12 |\n",
    "|  5 |  0 |\n",
    "\n",
    "### Requisitos:\n",
    "- La función debe explorar posibles valores de `a`, `b`, y `c` utilizando un método de prueba y error.\n",
    "- Debe devolver los valores que hagan que la diferencia entre la función `f(x)` y los valores medidos `y` sea exactamente cero para cada punto.\n",
    "\n",
    "> **Pista**: Los valores de `a`, `b`, y `c` son números pequeños."
   ]
  },
  {
   "cell_type": "code",
   "execution_count": 11,
   "metadata": {},
   "outputs": [
    {
     "name": "stdout",
     "output_type": "stream",
     "text": [
      "Coeficientes encontrados: a = -2, b = 10, c = 0\n",
      "3959\n"
     ]
    }
   ],
   "source": [
    "# Implementar\n",
    "def func_cuadratica(x, a, b, c):\n",
    "    return a * x**2 + b * x + c\n",
    "\n",
    "\n",
    "def encontrar_coeficientes():\n",
    "    rango = range(-10, 11)\n",
    "\n",
    "    for a in rango:\n",
    "        for b in rango:\n",
    "            for c in rango:\n",
    "               \n",
    "                if (func_cuadratica(0, a, b, c) == 0 and\n",
    "                    func_cuadratica(1, a, b, c) == 8 and\n",
    "                    func_cuadratica(2, a, b, c) == 12 and\n",
    "                    func_cuadratica(3, a, b, c) == 12 and\n",
    "                    func_cuadratica(5, a, b, c) == 0):\n",
    "                    return a, b, c\n",
    "\n",
    "    return None\n",
    "\n",
    "coeficientes = encontrar_coeficientes()\n",
    "if coeficientes:\n",
    "    print(f\"Coeficientes encontrados: a = {coeficientes[0]}, b = {coeficientes[1]}, c = {coeficientes[2]}\")\n",
    "else:\n",
    "    print(\"No se encontraron coeficientes.\")\n"
   ]
  }
 ],
 "metadata": {
  "kernelspec": {
   "display_name": "Python 3",
   "language": "python",
   "name": "python3"
  },
  "language_info": {
   "codemirror_mode": {
    "name": "ipython",
    "version": 3
   },
   "file_extension": ".py",
   "mimetype": "text/x-python",
   "name": "python",
   "nbconvert_exporter": "python",
   "pygments_lexer": "ipython3",
   "version": "3.12.5"
  }
 },
 "nbformat": 4,
 "nbformat_minor": 2
}
