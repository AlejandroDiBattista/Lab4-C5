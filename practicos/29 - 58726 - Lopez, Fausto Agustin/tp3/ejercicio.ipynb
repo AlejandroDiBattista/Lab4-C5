{
 "cells": [
  {
   "cell_type": "markdown",
   "metadata": {},
   "source": [
    "#TP3"
   ]
  },
  {
   "cell_type": "markdown",
   "metadata": {},
   "source": [
    "## Ejercicio 1: Cargar Datos de ventas.\n",
    "\n",
    "El archivo datos.dat contiene el registro de las ventas realizadas.\n",
    "\n",
    "Tiene un formato de ancho fijo:\n",
    "- fecha:    10 lugares\n",
    "- producto: 30 lugares\n",
    "- precio:   10 lugares\n",
    "- cantidad:  5 lugares\n",
    "\n",
    "hacer una funcion que carge los en una lista de diccionarios. \n",
    "\n",
    "nota: con \n",
    "```python\n",
    "lineas = open(\"datos.dat\", \"r\").readlines() \n",
    "```\n",
    "puede obtener la lista de string de todos los datos "
   ]
  },
  {
   "cell_type": "code",
   "execution_count": 1,
   "metadata": {},
   "outputs": [
    {
     "name": "stdout",
     "output_type": "stream",
     "text": [
      "[{'fecha': '2024-08-27', 'producto': 'Mirinda', 'precio': 1510.0, 'cantidad': 14}, {'fecha': '2024-08-27', 'producto': 'Mirinda', 'precio': 1560.0, 'cantidad': 12}, {'fecha': '2024-08-28', 'producto': 'Torasso', 'precio': 940.0, 'cantidad': 8}, {'fecha': '2024-08-29', 'producto': 'Pepsi Cola', 'precio': 1210.0, 'cantidad': 10}, {'fecha': '2024-08-30', 'producto': 'Mirinda', 'precio': 1520.0, 'cantidad': 1}, {'fecha': '2024-09-01', 'producto': 'Mirinda', 'precio': 1550.0, 'cantidad': 15}, {'fecha': '2024-09-01', 'producto': 'Sprite', 'precio': 810.0, 'cantidad': 4}, {'fecha': '2024-09-02', 'producto': 'Coca Cola', 'precio': 1100.0, 'cantidad': 4}, {'fecha': '2024-09-02', 'producto': 'Pepsi Cola', 'precio': 1220.0, 'cantidad': 13}, {'fecha': '2024-09-02', 'producto': 'Torasso', 'precio': 910.0, 'cantidad': 5}, {'fecha': '2024-09-02', 'producto': 'Torasso', 'precio': 920.0, 'cantidad': 3}, {'fecha': '2024-09-03', 'producto': 'Coca Cola', 'precio': 1020.0, 'cantidad': 8}, {'fecha': '2024-09-03', 'producto': 'Mirinda', 'precio': 1570.0, 'cantidad': 7}, {'fecha': '2024-09-03', 'producto': 'Mirinda', 'precio': 1590.0, 'cantidad': 2}, {'fecha': '2024-09-04', 'producto': 'Pepsi Cola', 'precio': 1220.0, 'cantidad': 13}, {'fecha': '2024-09-05', 'producto': 'Mirinda', 'precio': 1500.0, 'cantidad': 3}, {'fecha': '2024-09-05', 'producto': 'Pepsi Cola', 'precio': 1300.0, 'cantidad': 5}, {'fecha': '2024-09-06', 'producto': 'Coca Cola', 'precio': 1080.0, 'cantidad': 1}, {'fecha': '2024-09-06', 'producto': 'Sprite', 'precio': 860.0, 'cantidad': 12}, {'fecha': '2024-09-06', 'producto': 'Torasso', 'precio': 930.0, 'cantidad': 3}, {'fecha': '2024-09-07', 'producto': 'Coca Cola', 'precio': 1080.0, 'cantidad': 14}, {'fecha': '2024-09-07', 'producto': 'Sprite', 'precio': 870.0, 'cantidad': 13}, {'fecha': '2024-09-08', 'producto': 'Coca Cola', 'precio': 1040.0, 'cantidad': 10}, {'fecha': '2024-09-08', 'producto': 'Mirinda', 'precio': 1580.0, 'cantidad': 2}, {'fecha': '2024-09-08', 'producto': 'Pepsi Cola', 'precio': 1240.0, 'cantidad': 9}, {'fecha': '2024-09-09', 'producto': 'Mirinda', 'precio': 1500.0, 'cantidad': 3}, {'fecha': '2024-09-09', 'producto': 'Sprite', 'precio': 850.0, 'cantidad': 9}, {'fecha': '2024-09-10', 'producto': 'Mirinda', 'precio': 1590.0, 'cantidad': 8}, {'fecha': '2024-09-10', 'producto': 'Pepsi Cola', 'precio': 1250.0, 'cantidad': 12}, {'fecha': '2024-09-11', 'producto': 'Sprite', 'precio': 810.0, 'cantidad': 6}, {'fecha': '2024-09-11', 'producto': 'Sprite', 'precio': 820.0, 'cantidad': 14}, {'fecha': '2024-09-12', 'producto': 'Coca Cola', 'precio': 1080.0, 'cantidad': 4}, {'fecha': '2024-09-13', 'producto': 'Mirinda', 'precio': 1580.0, 'cantidad': 5}, {'fecha': '2024-09-13', 'producto': 'Pepsi Cola', 'precio': 1250.0, 'cantidad': 13}, {'fecha': '2024-09-14', 'producto': 'Coca Cola', 'precio': 1080.0, 'cantidad': 15}, {'fecha': '2024-09-14', 'producto': 'Pepsi Cola', 'precio': 1270.0, 'cantidad': 14}, {'fecha': '2024-09-15', 'producto': 'Coca Cola', 'precio': 1100.0, 'cantidad': 1}, {'fecha': '2024-09-15', 'producto': 'Mirinda', 'precio': 1500.0, 'cantidad': 13}, {'fecha': '2024-09-15', 'producto': 'Sprite', 'precio': 870.0, 'cantidad': 14}, {'fecha': '2024-09-15', 'producto': 'Torasso', 'precio': 900.0, 'cantidad': 13}]\n"
     ]
    }
   ],
   "source": [
    "def cargar_datos(doc):\n",
    "    ventas = []\n",
    "    with open(doc, \"r\") as file:\n",
    "        lineas = file.readlines()\n",
    "        \n",
    "        for linea in lineas:\n",
    "            fecha = linea[:10].strip()\n",
    "            producto = linea[10:40].strip()\n",
    "            precio = float(linea[40:50].strip())\n",
    "            cantidad = int(linea[50:55].strip())\n",
    "            \n",
    "            ventas.append({\n",
    "                \"fecha\": fecha,\n",
    "                \"producto\": producto,\n",
    "                \"precio\": precio,\n",
    "                \"cantidad\": cantidad \n",
    "            })\n",
    "    return ventas\n",
    "\n",
    "datos = cargar_datos(\"datos.dat\")\n",
    "print(datos)"
   ]
  },
  {
   "cell_type": "markdown",
   "metadata": {},
   "source": [
    "## Ejercicio 2: Calcular el total de ventas.\n",
    "\n",
    "Hacer una funcion que sume los importes vendidos (precio * cantidad) y las cantidades"
   ]
  },
  {
   "cell_type": "code",
   "execution_count": 4,
   "metadata": {},
   "outputs": [
    {
     "name": "stdout",
     "output_type": "stream",
     "text": [
      "Las ventas fueron de $392730.00 en 335 unidades\n"
     ]
    }
   ],
   "source": [
    "def calcular_totales(datos):\n",
    "    importe_total = 0\n",
    "    cantidad_total = 0\n",
    "    \n",
    "    for venta in datos:\n",
    "        importe_ventas = venta['precio'] * venta['cantidad']\n",
    "        \n",
    "        importe_total += importe_ventas\n",
    "        \n",
    "        cantidad_total += venta['cantidad']\n",
    "        \n",
    "    return importe_total, cantidad_total\n",
    "\n",
    "importe, cantidad = calcular_totales(datos)\n",
    "\n",
    "print(f\"Las ventas fueron de ${importe:.2f} en {cantidad} unidades\")"
   ]
  },
  {
   "cell_type": "markdown",
   "metadata": {},
   "source": [
    "## Ejercicio 3: Listar las unidades vendidas.\n",
    "\n",
    "Listar cuantas unidades se vendieron en total para cada producto"
   ]
  },
  {
   "cell_type": "code",
   "execution_count": 7,
   "metadata": {},
   "outputs": [
    {
     "name": "stdout",
     "output_type": "stream",
     "text": [
      "Unidades vendidas por producto:\n",
      "Mirinda: 85 unidades\n",
      "Torasso: 32 unidades\n",
      "Pepsi Cola: 89 unidades\n",
      "Sprite: 72 unidades\n",
      "Coca Cola: 57 unidades\n"
     ]
    }
   ],
   "source": [
    "def unidades_vendidas(datos):\n",
    "    ventas_totales = {}\n",
    "    \n",
    "    for venta in datos:\n",
    "        producto = venta['producto'].strip()  \n",
    "        cantidad = venta['cantidad']\n",
    "        \n",
    "        if producto in ventas_totales:\n",
    "            ventas_totales[producto] += cantidad\n",
    "        else:\n",
    "            ventas_totales[producto] = cantidad\n",
    "    \n",
    "    return ventas_totales\n",
    "\n",
    "def listar_ventas(ventas):\n",
    "    if ventas:\n",
    "        print(\"Unidades vendidas por producto:\")\n",
    "        for producto, cantidad in ventas.items():\n",
    "            print(f\"{producto}: {cantidad} unidades\")\n",
    "    else:\n",
    "        print(\"No hay productos vendidos\")\n",
    "\n",
    "ventas = unidades_vendidas(datos)\n",
    "listar_ventas(ventas)\n",
    "\n"
   ]
  },
  {
   "cell_type": "markdown",
   "metadata": {},
   "source": [
    "##  Ejercicio 4: Listar el precio promedio por producto.\n",
    "\n",
    "Hacer un listado del precio promedio por productos."
   ]
  },
  {
   "cell_type": "code",
   "execution_count": 9,
   "metadata": {},
   "outputs": [
    {
     "name": "stdout",
     "output_type": "stream",
     "text": [
      "Precio promedio por producto:\n",
      "Mirinda: $1542.12\n",
      "Torasso: $916.25\n",
      "Pepsi Cola: $1241.69\n",
      "Sprite: $847.78\n",
      "Coca Cola: $1066.32\n"
     ]
    }
   ],
   "source": [
    "def precio_promedio(datos):\n",
    "    precios_totales = {}\n",
    "    cantidad_totales = {}\n",
    "\n",
    "    for venta in datos:\n",
    "        producto = venta['producto']\n",
    "        precio = venta['precio']\n",
    "        cantidad = venta['cantidad']\n",
    "\n",
    "        if producto in precios_totales:\n",
    "            precios_totales[producto] += precio * cantidad\n",
    "            cantidad_totales[producto] += cantidad\n",
    "        else:\n",
    "            precios_totales[producto] = precio * cantidad \n",
    "            cantidad_totales[producto] = cantidad\n",
    "    \n",
    "    promedio_por_producto = {}\n",
    "    for producto in precios_totales:\n",
    "        promedio_por_producto[producto] = precios_totales[producto] / cantidad_totales[producto]\n",
    "        \n",
    "    return promedio_por_producto\n",
    "            \n",
    "\n",
    "def listar_precios(datos):\n",
    "    print(\"Precio promedio por producto:\")\n",
    "    for producto, promedio in precios.items():\n",
    "        print(f'{producto}: ${promedio:.2f}')\n",
    "\n",
    "precios = precio_promedio(datos)\n",
    "listar_precios(precios)"
   ]
  },
  {
   "cell_type": "markdown",
   "metadata": {},
   "source": [
    "### Ejercicio 5: Ranking de productos\n",
    "\n",
    "Realizar un listado de los 3 productos mas vendidos ordenados la cantidad de unidades vendidas (ordenadas de mayor a menor)\n"
   ]
  },
  {
   "cell_type": "code",
   "execution_count": 10,
   "metadata": {},
   "outputs": [
    {
     "name": "stdout",
     "output_type": "stream",
     "text": [
      "Ranking de productos más vendidos:\n",
      "1. Pepsi Cola: 89 unidades\n",
      "2. Mirinda: 85 unidades\n",
      "3. Sprite: 72 unidades\n"
     ]
    }
   ],
   "source": [
    "def ranking_productos(datos, top=3):\n",
    "    ventas_totales = {}\n",
    "    \n",
    "    for venta in datos:\n",
    "        producto = venta['producto']\n",
    "        cantidad = venta['cantidad']\n",
    "        \n",
    "        if producto in ventas_totales:\n",
    "            ventas_totales[producto] += cantidad\n",
    "        else:\n",
    "            ventas_totales[producto] = cantidad\n",
    "    \n",
    "    ranking = sorted(ventas_totales.items(), key=lambda x: x[1], reverse=True)\n",
    "\n",
    "    return ranking[:top]\n",
    "\n",
    "def listar_ranking(ranking):\n",
    "    print(\"Ranking de productos más vendidos:\")\n",
    "    for i, (producto, cantidad) in enumerate(ranking, 1):\n",
    "        print(f\"{i}. {producto}: {cantidad} unidades\")\n",
    "\n",
    "ranking = ranking_productos(datos)\n",
    "listar_ranking(ranking)"
   ]
  },
  {
   "cell_type": "markdown",
   "metadata": {},
   "source": [
    "### Ejercicio 6: Listar las ventas por mes\n",
    "\n",
    "Realizar un listado del total de unidades vendidas por productos separada por mes."
   ]
  },
  {
   "cell_type": "code",
   "execution_count": 11,
   "metadata": {},
   "outputs": [
    {
     "name": "stdout",
     "output_type": "stream",
     "text": [
      "Ventas mensuales por producto:\n",
      "\n",
      "Mes: 2024-08\n",
      "  Mirinda: 27 unidades\n",
      "  Torasso: 8 unidades\n",
      "  Pepsi Cola: 10 unidades\n",
      "\n",
      "Mes: 2024-09\n",
      "  Mirinda: 58 unidades\n",
      "  Sprite: 72 unidades\n",
      "  Coca Cola: 57 unidades\n",
      "  Pepsi Cola: 79 unidades\n",
      "  Torasso: 24 unidades\n"
     ]
    }
   ],
   "source": [
    "from collections import defaultdict\n",
    "\n",
    "def ventas_por_mes(datos):\n",
    "    ventas_mensuales = defaultdict(lambda: defaultdict(int))\n",
    "    \n",
    "    for venta in datos:\n",
    "        fecha = venta['fecha']\n",
    "        producto = venta['producto']\n",
    "        cantidad = venta['cantidad']\n",
    "\n",
    "        mes = fecha[:7] \n",
    "        \n",
    "        ventas_mensuales[mes][producto] += cantidad\n",
    "    \n",
    "    return ventas_mensuales\n",
    "\n",
    "def listar_ventas_mensuales(ventas):\n",
    "    print(\"Ventas mensuales por producto:\")\n",
    "    \n",
    "    for mes, productos in ventas.items():\n",
    "        print(f\"\\nMes: {mes}\")\n",
    "        for producto, cantidad in productos.items():\n",
    "            print(f\"  {producto}: {cantidad} unidades\")\n",
    "\n",
    "ventas = ventas_por_mes(datos)\n",
    "listar_ventas_mensuales(ventas)\n"
   ]
  },
  {
   "cell_type": "markdown",
   "metadata": {},
   "source": [
    "### Ejercicio 7: Informe general\n",
    "\n",
    "Mostrar un listado de productos ordenados alfabeticamente que contengan el precio promedio, la cantidad de unidades vendidas y el importe total vendido para cada producto"
   ]
  },
  {
   "cell_type": "code",
   "execution_count": 13,
   "metadata": {},
   "outputs": [
    {
     "name": "stdout",
     "output_type": "stream",
     "text": [
      "Producto                      Precio Promedio     Cantidad Vendida    Importe Total       \n",
      "==========================================================================================\n",
      "Coca Cola                     1066.32             57                  60780.00            \n",
      "Mirinda                       1542.12             85                  131080.00           \n",
      "Pepsi Cola                    1241.69             89                  110510.00           \n",
      "Sprite                        847.78              72                  61040.00            \n",
      "Torasso                       916.25              32                  29320.00            \n"
     ]
    }
   ],
   "source": [
    "def resumen_ventas(datos):\n",
    "    resumen = {}\n",
    "    \n",
    "    for venta in datos:\n",
    "        producto = venta['producto']\n",
    "        precio = venta['precio']\n",
    "        cantidad = venta['cantidad']\n",
    "        \n",
    "        if producto in resumen:\n",
    "            resumen[producto]['importe_total'] += precio * cantidad\n",
    "            resumen[producto]['cantidad_total'] += cantidad\n",
    "        else:\n",
    "            resumen[producto] = {\n",
    "                'importe_total': precio * cantidad,\n",
    "                'cantidad_total': cantidad,\n",
    "                'precio_total': precio * cantidad\n",
    "            }\n",
    "    \n",
    "    for producto in resumen:\n",
    "        resumen[producto]['precio_promedio'] = resumen[producto]['importe_total'] / resumen[producto]['cantidad_total']\n",
    "    \n",
    "    return resumen\n",
    "\n",
    "def informe_ventas(resumen):\n",
    "    productos_ordenados = sorted(resumen.keys())\n",
    "    \n",
    "    print(f\"{'Producto':<30}{'Precio Promedio':<20}{'Cantidad Vendida':<20}{'Importe Total':<20}\")\n",
    "    print(\"=\"*90)\n",
    "    \n",
    "    for producto in productos_ordenados:\n",
    "        precio_promedio = resumen[producto]['precio_promedio']\n",
    "        cantidad_total = resumen[producto]['cantidad_total']\n",
    "        importe_total = resumen[producto]['importe_total']\n",
    "        \n",
    "        print(f\"{producto:<30}{precio_promedio:<20.2f}{cantidad_total:<20}{importe_total:<20.2f}\")\n",
    "\n",
    "resumen = resumen_ventas(datos)\n",
    "informe_ventas(resumen)\n"
   ]
  }
 ],
 "metadata": {
  "kernelspec": {
   "display_name": "Python 3",
   "language": "python",
   "name": "python3"
  },
  "language_info": {
   "codemirror_mode": {
    "name": "ipython",
    "version": 3
   },
   "file_extension": ".py",
   "mimetype": "text/x-python",
   "name": "python",
   "nbconvert_exporter": "python",
   "pygments_lexer": "ipython3",
   "version": "3.11.4"
  }
 },
 "nbformat": 4,
 "nbformat_minor": 2
}
