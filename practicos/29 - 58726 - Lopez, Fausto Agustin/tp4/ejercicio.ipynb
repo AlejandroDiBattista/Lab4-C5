{
 "cells": [
  {
   "cell_type": "markdown",
   "metadata": {},
   "source": [
    "# Simulación del Truco"
   ]
  },
  {
   "cell_type": "markdown",
   "metadata": {},
   "source": [
    "Las **cartas** deben registra el numero, palo y valor de la carta. \n",
    "El valor debe reflejar la jerarquía de las cartas en el juego del truco."
   ]
  },
  {
   "cell_type": "code",
   "execution_count": 18,
   "metadata": {},
   "outputs": [
    {
     "name": "stdout",
     "output_type": "stream",
     "text": [
      "1 de basto (Valor: 13)\n"
     ]
    }
   ],
   "source": [
    "def calcular_valor(numero, palo):\n",
    "    jerarquia = {\n",
    "        (1, \"espada\"): 14, (1, \"basto\"): 13, (7, \"espada\"): 12, (7, \"oro\"): 11,\n",
    "        (3, \"espada\"): 10, (3, \"basto\"): 10, (3, \"oro\"): 10, (3, \"copa\"): 10,\n",
    "        (2, \"espada\"): 9, (2, \"basto\"): 9, (2, \"oro\"): 9, (2, \"copa\"): 9,\n",
    "        (1, \"oro\"): 8, (1, \"copa\"): 8,\n",
    "        (12, \"espada\"): 7, (12, \"basto\"): 7, (12, \"oro\"): 7, (12, \"copa\"): 7,\n",
    "        (11, \"espada\"): 6, (11, \"basto\"): 6, (11, \"oro\"): 6, (11, \"copa\"): 6,\n",
    "        (10, \"espada\"): 5, (10, \"basto\"): 5, (10, \"oro\"): 5, (10, \"copa\"): 5,\n",
    "        (7, \"basto\"): 4, (7, \"copa\"): 4,\n",
    "        (6, \"espada\"): 3, (6, \"basto\"): 3, (6, \"oro\"): 3, (6, \"copa\"): 3,\n",
    "        (5, \"espada\"): 2, (5, \"basto\"): 2, (5, \"oro\"): 2, (5, \"copa\"): 2,\n",
    "        (4, \"espada\"): 1, (4, \"basto\"): 1, (4, \"oro\"): 1, (4, \"copa\"): 1,  \n",
    "    }\n",
    "    return jerarquia.get((numero, palo), 0)\n",
    "class Carta:\n",
    "    def __init__(self, numero, palo):\n",
    "        self.numero = numero\n",
    "        self.palo = palo\n",
    "        self.valor = calcular_valor(numero, palo)\n",
    "    def __str__(self):\n",
    "        return f'{self.numero} de {self.palo} (Valor: {self.valor})'\n",
    "    \n",
    "c = Carta(1, \"basto\")\n",
    "print(c)\n"
   ]
  },
  {
   "cell_type": "markdown",
   "metadata": {},
   "source": [
    "**Mazo**: Representan las cartas españolas de 1 al 12, en los palos de oro, copa, espada y basto.\n",
    "\n",
    "Debe existir una función que permita barajar las cartas.\n",
    "y otra función que permita repartir las cartas a los jugadores."
   ]
  },
  {
   "cell_type": "code",
   "execution_count": 19,
   "metadata": {},
   "outputs": [
    {
     "name": "stdout",
     "output_type": "stream",
     "text": [
      "['12 de espada (Valor: 7)', '3 de oro (Valor: 10)', '11 de copa (Valor: 6)']\n"
     ]
    }
   ],
   "source": [
    "import random\n",
    "\n",
    "class Mazo:\n",
    "    def __init__(self):\n",
    "        self.cartas = [Carta(numero, palo) for numero in range(1,13)\n",
    "                       for palo in [\"oro\", \"copa\", \"espada\", \"basto\"]\n",
    "                       if numero != 8 and numero != 9]\n",
    "        \n",
    "    def mezclar(self):\n",
    "        random.shuffle(self.cartas)\n",
    "        \n",
    "    def repartir(self, cantidad):\n",
    "        mano = self.cartas[:cantidad]\n",
    "        self.cartas = self.cartas[cantidad:]\n",
    "        return mano\n",
    "\n",
    "m = Mazo()\n",
    "m.mezclar()\n",
    "print([str(carta) for carta in m.repartir(3)])"
   ]
  },
  {
   "cell_type": "markdown",
   "metadata": {},
   "source": [
    "**Jugador**: Deben tener un nombre y las cartas que tiene en la mano. Debe acumular los puntos ganados.\n",
    "\n",
    "Nota: Para simplificar el problema, el jugador elige la carta a jugar de forma aleatoria."
   ]
  },
  {
   "cell_type": "code",
   "execution_count": 20,
   "metadata": {},
   "outputs": [
    {
     "name": "stdout",
     "output_type": "stream",
     "text": [
      "Jugador: Juan\n",
      "Cartas en mano: ['1 de oro (Valor: 8)', '3 de basto (Valor: 10)', '7 de espada (Valor: 12)']\n",
      "Carta jugada: 3 de basto (Valor: 10)\n"
     ]
    }
   ],
   "source": [
    "import random\n",
    "\n",
    "class Jugador:\n",
    "    def __init__(self, nombre):\n",
    "        self.nombre = nombre\n",
    "        self.cartas = []\n",
    "        self.puntos = 0\n",
    "    \n",
    "    def recibir_cartas(self, cartas):\n",
    "        self.cartas = cartas \n",
    "    \n",
    "    def jugar_carta(self):\n",
    "        if self.cartas:\n",
    "            carta_a_jugar = random.choice(self.cartas)  \n",
    "            self.cartas.remove(carta_a_jugar)  \n",
    "            return carta_a_jugar\n",
    "        else:\n",
    "            return None  \n",
    "    \n",
    "    def __str__(self):\n",
    "        return f'Jugador {self.nombre} - Puntos: {self.puntos}'\n",
    "\n",
    "j = Jugador(\"Juan\")\n",
    "j.recibir_cartas([Carta(1, \"oro\"), Carta(3, \"basto\"), Carta(7, \"espada\")]) \n",
    "print(f'Jugador: {j.nombre}')\n",
    "print(f'Cartas en mano: {[str(carta) for carta in j.cartas]}')\n",
    "print(f'Carta jugada: {j.jugar_carta()}')\n"
   ]
  },
  {
   "cell_type": "markdown",
   "metadata": {},
   "source": [
    "**Partida**: Debe tener dos jugadores, un mazo de cartas y un puntaje. Debe permitir jugar una carta por ronda y definir el ganador de la ronda. Debe permitir jugar hasta que se terminen las cartas del mazo."
   ]
  },
  {
   "cell_type": "code",
   "execution_count": 34,
   "metadata": {},
   "outputs": [
    {
     "name": "stdout",
     "output_type": "stream",
     "text": [
      "Juan juega 1 de copa (Valor: 8)\n",
      "Pedro juega 1 de basto (Valor: 13)\n",
      "Gana la ronda Pedro\n",
      "Juan juega 1 de espada (Valor: 14)\n",
      "Pedro juega 2 de copa (Valor: 9)\n",
      "Gana la ronda Juan\n",
      "Juan juega 1 de oro (Valor: 8)\n",
      "Pedro juega 2 de oro (Valor: 9)\n",
      "Gana la ronda Pedro\n",
      "Puntaje: Jugador Juan - Puntos: 1 | Jugador Pedro - Puntos: 2\n",
      "Juan juega 4 de basto (Valor: 1)\n",
      "Pedro juega 6 de copa (Valor: 3)\n",
      "Gana la ronda Pedro\n",
      "Juan juega 12 de espada (Valor: 7)\n",
      "Pedro juega 3 de espada (Valor: 10)\n",
      "Gana la ronda Pedro\n",
      "Juan juega 6 de espada (Valor: 3)\n",
      "Pedro juega 10 de espada (Valor: 5)\n",
      "Gana la ronda Pedro\n",
      "Puntaje: Jugador Juan - Puntos: 1 | Jugador Pedro - Puntos: 5\n",
      "Juan juega 2 de espada (Valor: 9)\n",
      "Pedro juega 11 de oro (Valor: 6)\n",
      "Gana la ronda Juan\n",
      "Juan juega 6 de basto (Valor: 3)\n",
      "Pedro juega 3 de basto (Valor: 10)\n",
      "Gana la ronda Pedro\n",
      "Juan juega 11 de basto (Valor: 6)\n",
      "Pedro juega 4 de copa (Valor: 1)\n",
      "Gana la ronda Juan\n",
      "Puntaje: Jugador Juan - Puntos: 3 | Jugador Pedro - Puntos: 6\n",
      "Juan juega 5 de copa (Valor: 2)\n",
      "Pedro juega 2 de basto (Valor: 9)\n",
      "Gana la ronda Pedro\n",
      "Juan juega 3 de oro (Valor: 10)\n",
      "Pedro juega 4 de espada (Valor: 1)\n",
      "Gana la ronda Juan\n",
      "Juan juega 3 de copa (Valor: 10)\n",
      "Pedro juega 10 de basto (Valor: 5)\n",
      "Gana la ronda Juan\n",
      "Puntaje: Jugador Juan - Puntos: 5 | Jugador Pedro - Puntos: 7\n",
      "Juan juega 12 de copa (Valor: 7)\n",
      "Pedro juega 5 de espada (Valor: 2)\n",
      "Gana la ronda Juan\n",
      "Juan juega 10 de copa (Valor: 5)\n",
      "Pedro juega 7 de copa (Valor: 4)\n",
      "Gana la ronda Juan\n",
      "Juan juega 5 de oro (Valor: 2)\n",
      "Pedro juega 7 de basto (Valor: 4)\n",
      "Gana la ronda Pedro\n",
      "Puntaje: Jugador Juan - Puntos: 7 | Jugador Pedro - Puntos: 8\n",
      "Juan juega 4 de oro (Valor: 1)\n",
      "Pedro juega 6 de oro (Valor: 3)\n",
      "Gana la ronda Pedro\n",
      "Juan juega 7 de oro (Valor: 11)\n",
      "Pedro juega 7 de espada (Valor: 12)\n",
      "Gana la ronda Pedro\n",
      "Juan juega 5 de basto (Valor: 2)\n",
      "Pedro juega 11 de copa (Valor: 6)\n",
      "Gana la ronda Pedro\n",
      "Puntaje: Jugador Juan - Puntos: 7 | Jugador Pedro - Puntos: 11\n",
      "Juan juega 10 de oro (Valor: 5)\n",
      "Pedro juega 12 de oro (Valor: 7)\n",
      "Gana la ronda Pedro\n",
      "Uno de los jugadores no tiene cartas para jugar.\n",
      "Uno de los jugadores no tiene cartas para jugar.\n",
      "Puntaje: Jugador Juan - Puntos: 7 | Jugador Pedro - Puntos: 12\n",
      "No hay más cartas en el mazo. Fin del juego.\n",
      "Pedro gana la partida!\n"
     ]
    }
   ],
   "source": [
    "class Partida:\n",
    "    def __init__(self, jugador1, jugador2):\n",
    "        self.jugador1 = jugador1\n",
    "        self.jugador2 = jugador2\n",
    "        self.mazo = Mazo()\n",
    "\n",
    "    def jugar_ronda(self):\n",
    "        carta_j1 = self.jugador1.jugar_carta()\n",
    "        carta_j2 = self.jugador2.jugar_carta()\n",
    "\n",
    "        if carta_j1 is None or carta_j2 is None:\n",
    "            print(\"Uno de los jugadores no tiene cartas para jugar.\")\n",
    "            return \n",
    "\n",
    "        print(f'{self.jugador1.nombre} juega {carta_j1}')\n",
    "        print(f'{self.jugador2.nombre} juega {carta_j2}')\n",
    "\n",
    "        if carta_j1.valor > carta_j2.valor:\n",
    "            print(f'Gana la ronda {self.jugador1.nombre}')\n",
    "            self.jugador1.puntos += 1\n",
    "        elif carta_j2.valor > carta_j1.valor:\n",
    "            print(f'Gana la ronda {self.jugador2.nombre}')\n",
    "            self.jugador2.puntos += 1\n",
    "        else:\n",
    "            print('Empate en la ronda')\n",
    "\n",
    "    def jugar(self):\n",
    "        self.jugador1.recibir_cartas(self.mazo.repartir(3))\n",
    "        self.jugador2.recibir_cartas(self.mazo.repartir(3))\n",
    "\n",
    "        while self.jugador1.puntos < 15 and self.jugador2.puntos < 15:\n",
    "            for _ in range(3):\n",
    "                self.jugar_ronda()\n",
    "\n",
    "            print(f'Puntaje: {self.jugador1} | {self.jugador2}')\n",
    "            \n",
    "            if self.mazo.cartas:  \n",
    "                self.mazo.mezclar()\n",
    "                self.jugador1.recibir_cartas(self.mazo.repartir(3))\n",
    "                self.jugador2.recibir_cartas(self.mazo.repartir(3))\n",
    "            else:\n",
    "                print(\"No hay más cartas en el mazo. Fin del juego.\")\n",
    "                break\n",
    "\n",
    "        if self.jugador1.puntos > self.jugador2.puntos:\n",
    "            print(f'{self.jugador1.nombre} gana la partida!')\n",
    "        elif self.jugador2.puntos > self.jugador1.puntos:\n",
    "            print(f'{self.jugador2.nombre} gana la partida!')\n",
    "        else:\n",
    "            print('Empate en la partida!')\n",
    "\n",
    "p = Partida(Jugador(\"Juan\"), Jugador(\"Pedro\"))\n",
    "p.jugar()\n"
   ]
  }
 ],
 "metadata": {
  "kernelspec": {
   "display_name": "Python 3",
   "language": "python",
   "name": "python3"
  },
  "language_info": {
   "codemirror_mode": {
    "name": "ipython",
    "version": 3
   },
   "file_extension": ".py",
   "mimetype": "text/x-python",
   "name": "python",
   "nbconvert_exporter": "python",
   "pygments_lexer": "ipython3",
   "version": "3.11.4"
  }
 },
 "nbformat": 4,
 "nbformat_minor": 2
}
