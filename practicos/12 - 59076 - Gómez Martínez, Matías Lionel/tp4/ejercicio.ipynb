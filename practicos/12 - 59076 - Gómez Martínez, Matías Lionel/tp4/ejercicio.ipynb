{
 "cells": [
  {
   "cell_type": "markdown",
   "metadata": {},
   "source": [
    "# Simulación del Truco"
   ]
  },
  {
   "cell_type": "markdown",
   "metadata": {},
   "source": [
    "Las **cartas** deben registra el numero, palo y valor de la carta. \n",
    "El valor debe reflejar la jerarquía de las cartas en el juego del truco."
   ]
  },
  {
   "cell_type": "code",
   "execution_count": 96,
   "metadata": {},
   "outputs": [],
   "source": [
    "def calcular_valor(numero, palo):\n",
    "    jerarquia = {\n",
    "            (1, \"⚔️\"): 14,\n",
    "            (1, \"🪵\"): 13,\n",
    "            (7, \"⚔️\"): 12,\n",
    "            (7, \"🪙\"): 11,\n",
    "            (3, \"cualquier_palo\"): 10,\n",
    "            (2, \"cualquier_palo\"): 9,\n",
    "            (1, \"cualquier_palo\"): 8,\n",
    "            (12, \"cualquier_palo\"): 7,\n",
    "            (11, \"cualquier_palo\"): 6,\n",
    "            (10, \"cualquier_palo\"): 5,\n",
    "            (7, \"cualquier_palo\"): 4,\n",
    "            (6, \"cualquier_palo\"): 3,\n",
    "            (5, \"cualquier_palo\"): 2,\n",
    "            (4, \"cualquier_palo\"): 1\n",
    "        }\n",
    "    \n",
    "    if (numero, palo) in jerarquia:\n",
    "        return jerarquia[(numero, palo)]\n",
    "    elif(numero, 'cualquier_palo') in jerarquia:\n",
    "        return jerarquia[(numero, 'cualquier_palo')]\n",
    "    else:\n",
    "        return 0\n",
    "\n",
    "\n",
    "class Carta:\n",
    "    def __init__(self, numero, palo):\n",
    "        self.numero = numero \n",
    "        self.palo = palo\n",
    "        self.valor = calcular_valor(numero, palo)\n",
    "    \n",
    "    def __repr__(self):\n",
    "        return f\"{self.numero} de {self.palo} (valor: {self.valor})\"\n",
    "\n",
    "c = Carta(1, \"oro\")\n"
   ]
  },
  {
   "cell_type": "markdown",
   "metadata": {},
   "source": [
    "**Mazo**: Representan las cartas españolas de 1 al 12, en los palos de oro, copa, espada y basto.\n",
    "\n",
    "Debe existir una función que permita barajar las cartas.\n",
    "y otra función que permita repartir las cartas a los jugadores."
   ]
  },
  {
   "cell_type": "code",
   "execution_count": 97,
   "metadata": {},
   "outputs": [
    {
     "name": "stdout",
     "output_type": "stream",
     "text": [
      "[1 de 🍷 (valor: 8), 6 de 🪵 (valor: 3), 11 de 🪵 (valor: 6)]\n"
     ]
    }
   ],
   "source": [
    "import random\n",
    "\n",
    "class Mazo:\n",
    "    def __init__(self):\n",
    "        palos = ['🪙', '🍷', '⚔️', '🪵']\n",
    "        self.cartas = [Carta(num, palo) for num in range(1, 13) if num not in (8, 9) for palo in palos]\n",
    "        self.mezclar()\n",
    "    def mezclar(self):\n",
    "        random.shuffle(self.cartas)\n",
    "    def repartir(self, cantidad):\n",
    "        return [self.cartas.pop() for i in range(min(cantidad, len(self.cartas)))]\n",
    "\n",
    "m = Mazo()\n",
    "m.mezclar()\n",
    "print(m.repartir(3))"
   ]
  },
  {
   "cell_type": "markdown",
   "metadata": {},
   "source": [
    "**Jugador**: Deben tener un nombre y las cartas que tiene en la mano. Debe acumular los puntos ganados.\n",
    "\n",
    "Nota: Para simplificar el problema, el jugador elige la carta a jugar de forma aleatoria."
   ]
  },
  {
   "cell_type": "code",
   "execution_count": 98,
   "metadata": {},
   "outputs": [
    {
     "name": "stdout",
     "output_type": "stream",
     "text": [
      "10 de ⚔️ (valor: 5)\n"
     ]
    }
   ],
   "source": [
    "class Jugador:\n",
    "    def __init__(self, nombre):\n",
    "        self.nombre = nombre\n",
    "        self.cartas = []\n",
    "        self.puntos = 0\n",
    "    def recibir_cartas(self, cartas):\n",
    "        self.cartas.extend(cartas) \n",
    "    \n",
    "    def jugar_carta(self):\n",
    "        return self.cartas.pop() if self.cartas else None\n",
    "\n",
    "j = Jugador(\"Juan\")\n",
    "j.recibir_cartas(m.repartir(3))\n",
    "print(j.jugar_carta())"
   ]
  },
  {
   "cell_type": "markdown",
   "metadata": {},
   "source": [
    "**Partida**: Debe tener dos jugadores, un mazo de cartas y un puntaje. Debe permitir jugar una carta por ronda y definir el ganador de la ronda. Debe permitir jugar hasta que se terminen las cartas del mazo."
   ]
  },
  {
   "cell_type": "code",
   "execution_count": null,
   "metadata": {},
   "outputs": [
    {
     "name": "stdout",
     "output_type": "stream",
     "text": [
      "Juan juega: 10 de ⚔️ (valor: 5) y Pedro juega: 3 de 🪵 (valor: 10)\n",
      "Pedro ha ganado la ronda\n",
      "-------------------\n",
      "Juan juega: 6 de 🍷 (valor: 3) y Pedro juega: 7 de ⚔️ (valor: 12)\n",
      "Pedro ha ganado la ronda\n",
      "-------------------\n",
      "Juan juega: 6 de 🪵 (valor: 3) y Pedro juega: 2 de 🪙 (valor: 9)\n",
      "Pedro ha ganado la ronda\n",
      "-------------------\n",
      "Juan juega: 2 de 🍷 (valor: 9) y Pedro juega: 1 de ⚔️ (valor: 14)\n",
      "Pedro ha ganado la ronda\n",
      "-------------------\n",
      "Juan juega: 3 de 🍷 (valor: 10) y Pedro juega: 1 de 🪵 (valor: 13)\n",
      "Pedro ha ganado la ronda\n",
      "-------------------\n",
      "Juan juega: 5 de ⚔️ (valor: 2) y Pedro juega: 5 de 🍷 (valor: 2)\n",
      "Empate\n",
      "Juan juega: 10 de 🍷 (valor: 5) y Pedro juega: 7 de 🪙 (valor: 11)\n",
      "Pedro ha ganado la ronda\n",
      "-------------------\n",
      "No hay cartas\n",
      "Juan juega: 11 de 🍷 (valor: 6) y Pedro juega: 10 de 🪙 (valor: 5)\n",
      "Juan ha ganado la ronda\n",
      "-------------------\n",
      "Juan juega: 3 de 🍷 (valor: 10) y Pedro juega: 11 de 🪙 (valor: 6)\n",
      "Juan ha ganado la ronda\n",
      "-------------------\n",
      "Juan juega: 7 de 🍷 (valor: 4) y Pedro juega: 11 de ⚔️ (valor: 6)\n",
      "Pedro ha ganado la ronda\n",
      "-------------------\n",
      "Juan juega: 6 de ⚔️ (valor: 3) y Pedro juega: 7 de ⚔️ (valor: 12)\n",
      "Pedro ha ganado la ronda\n",
      "-------------------\n",
      "Juan juega: 2 de 🪙 (valor: 9) y Pedro juega: 4 de 🪵 (valor: 1)\n",
      "Juan ha ganado la ronda\n",
      "-------------------\n",
      "Juan juega: 11 de 🍷 (valor: 6) y Pedro juega: 4 de ⚔️ (valor: 1)\n",
      "Juan ha ganado la ronda\n",
      "-------------------\n",
      "Juan juega: 6 de 🪙 (valor: 3) y Pedro juega: 1 de ⚔️ (valor: 14)\n",
      "Pedro ha ganado la ronda\n",
      "-------------------\n",
      "Juan juega: 10 de 🪙 (valor: 5) y Pedro juega: 7 de 🪙 (valor: 11)\n",
      "Pedro ha ganado la ronda\n",
      "-------------------\n",
      "No hay cartas\n",
      "Juan juega: 4 de 🍷 (valor: 1) y Pedro juega: 6 de 🪵 (valor: 3)\n",
      "Pedro ha ganado la ronda\n",
      "-------------------\n",
      "Juan juega: 3 de 🍷 (valor: 10) y Pedro juega: 11 de 🍷 (valor: 6)\n",
      "Juan ha ganado la ronda\n",
      "-------------------\n",
      "Juan juega: 7 de 🪙 (valor: 11) y Pedro juega: 10 de 🪵 (valor: 5)\n",
      "Juan ha ganado la ronda\n",
      "-------------------\n",
      "Juan juega: 4 de 🪙 (valor: 1) y Pedro juega: 1 de 🪙 (valor: 8)\n",
      "Pedro ha ganado la ronda\n",
      "-------------------\n",
      "Juan juega: 2 de 🪵 (valor: 9) y Pedro juega: 11 de 🪵 (valor: 6)\n",
      "Juan ha ganado la ronda\n",
      "-------------------\n",
      "Juan juega: 7 de 🍷 (valor: 4) y Pedro juega: 7 de 🪵 (valor: 4)\n",
      "Empate\n",
      "Juan juega: 1 de ⚔️ (valor: 14) y Pedro juega: 3 de 🪵 (valor: 10)\n",
      "Juan ha ganado la ronda\n",
      "-------------------\n",
      "Juan juega: 2 de 🍷 (valor: 9) y Pedro juega: 3 de 🪙 (valor: 10)\n",
      "Pedro ha ganado la ronda\n",
      "-------------------\n",
      "No hay cartas\n",
      "Juan juega: 5 de 🪵 (valor: 2) y Pedro juega: 3 de ⚔️ (valor: 10)\n",
      "Pedro ha ganado la ronda\n",
      "-------------------\n",
      "Juan juega: 11 de 🍷 (valor: 6) y Pedro juega: 4 de 🍷 (valor: 1)\n",
      "Juan ha ganado la ronda\n",
      "-------------------\n",
      "Juan juega: 7 de 🪙 (valor: 11) y Pedro juega: 6 de 🍷 (valor: 3)\n",
      "Juan ha ganado la ronda\n",
      "-------------------\n",
      "Juan juega: 3 de ⚔️ (valor: 10) y Pedro juega: 3 de 🍷 (valor: 10)\n",
      "Empate\n",
      "Juan juega: 1 de 🪵 (valor: 13) y Pedro juega: 2 de 🍷 (valor: 9)\n",
      "Juan ha ganado la ronda\n",
      "-------------------\n",
      "Juan juega: 7 de 🍷 (valor: 4) y Pedro juega: 10 de ⚔️ (valor: 5)\n",
      "Pedro ha ganado la ronda\n",
      "-------------------\n",
      "Juan ha ganado\n",
      "Juan tiene 15 puntos\n",
      "Pedro tiene 11 puntos\n"
     ]
    }
   ],
   "source": [
    "class Partida:\n",
    "    def __init__(self, jugador1, jugador2):\n",
    "        self.jugador1 = jugador1\n",
    "        self.jugador2 = jugador2\n",
    "        self.mazo = Mazo()\n",
    "\n",
    "\n",
    "    def jugar_ronda(self):\n",
    "\n",
    "        C1, C2 = self.jugador1.jugar_carta(), self.jugador2.jugar_carta()\n",
    "\n",
    "        if C1 and C2:\n",
    "            print(f\"{self.jugador1.nombre} juega: {C1} y {self.jugador2.nombre} juega: {C2}\")\n",
    "            if C1.valor > C2.valor:\n",
    "                print(f\"{self.jugador1.nombre} ha ganado la ronda\")\n",
    "                print('-------------------')\n",
    "                self.jugador2.puntos += 1\n",
    "            elif C1.valor < C2.valor:\n",
    "                print(f\"{self.jugador2.nombre} ha ganado la ronda\")\n",
    "                print('-------------------')\n",
    "                self.jugador1.puntos += 1\n",
    "            else:\n",
    "                print(\"Empate\")\n",
    "\n",
    "    def jugar(self):\n",
    "\n",
    "        self.mazo.mezclar()\n",
    "        while self.jugador1.puntos < 15 and self.jugador2.puntos < 15:\n",
    "\n",
    "            if self.mazo.cartas:\n",
    "                self.jugador1.recibir_cartas(self.mazo.repartir(3))\n",
    "                self.jugador2.recibir_cartas(self.mazo.repartir(3))\n",
    "            else:\n",
    "                self.mazo = Mazo()\n",
    "                self.mazo.mezclar()\n",
    "\n",
    "            self.jugar_ronda()\n",
    "\n",
    "        if self.jugador1.puntos > self.jugador2.puntos:\n",
    "            print(f\"{self.jugador1.nombre} ha ganado\")\n",
    "            print(f\"{self.jugador1.nombre} tiene {self.jugador1.puntos} puntos\")\n",
    "            print(f\"{self.jugador2.nombre} tiene {self.jugador2.puntos} puntos\")\n",
    "        elif self.jugador2.puntos > self.jugador1.puntos:\n",
    "            print(f\"{self.jugador2.nombre} ha ganado\")\n",
    "            print(f\"{self.jugador1.nombre} tiene {self.jugador1.puntos} puntos\")\n",
    "            print(f\"{self.jugador2.nombre} tiene {self.jugador2.puntos} puntos\")\n",
    "        else:\n",
    "            print(\"Empate\")\n",
    "            print(f\"{self.jugador1.nombre} tiene {self.jugador1.puntos} puntos\")\n",
    "            print(f\"{self.jugador2.nombre} tiene {self.jugador2.puntos} puntos\")\n",
    "\n",
    "p = Partida(Jugador(\"Juan\"), Jugador(\"Pedro\"))\n",
    "p.jugar()"
   ]
  }
 ],
 "metadata": {
  "kernelspec": {
   "display_name": "Python 3",
   "language": "python",
   "name": "python3"
  },
  "language_info": {
   "codemirror_mode": {
    "name": "ipython",
    "version": 3
   },
   "file_extension": ".py",
   "mimetype": "text/x-python",
   "name": "python",
   "nbconvert_exporter": "python",
   "pygments_lexer": "ipython3",
   "version": "3.13.0"
  }
 },
 "nbformat": 4,
 "nbformat_minor": 2
}
