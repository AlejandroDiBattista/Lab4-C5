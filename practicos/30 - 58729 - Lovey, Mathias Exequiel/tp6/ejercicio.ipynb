{
 "cells": [
  {
   "cell_type": "markdown",
   "metadata": {},
   "source": [
    "# TP6\n",
    "\n",
    "### `Resolver usando Pandas`\n",
    "\n",
    "Resolver los ejercicios del TP3 utilizando la librería Pandas."
   ]
  },
  {
   "cell_type": "markdown",
   "metadata": {},
   "source": [
    "### Ejercicio 1: Cargar Datos de ventas.\n",
    "\n",
    "El archivo datos.dat contiene el registro de las ventas realizadas.\n",
    "\n",
    "Tiene un formato de ancho fijo:\n",
    "- `fecha`:    10 lugares\n",
    "- `producto`: 30 lugares\n",
    "- `precio`:   10 lugares\n",
    "- `cantidad`:  5 lugares\n",
    "\n",
    "Hacer una funcion que cargue los datos en un DataFrame de Pandas."
   ]
  },
  {
   "cell_type": "code",
   "execution_count": null,
   "metadata": {},
   "outputs": [
    {
     "name": "stdout",
     "output_type": "stream",
     "text": [
      "         fecha    producto  precio  cantidad\n",
      "0   2024-08-27     Mirinda    1510        14\n",
      "1   2024-08-27     Mirinda    1560        12\n",
      "2   2024-08-28     Torasso     940         8\n",
      "3   2024-08-29  Pepsi Cola    1210        10\n",
      "4   2024-08-30     Mirinda    1520         1\n",
      "5   2024-09-01     Mirinda    1550        15\n",
      "6   2024-09-01      Sprite     810         4\n",
      "7   2024-09-02   Coca Cola    1100         4\n",
      "8   2024-09-02  Pepsi Cola    1220        13\n",
      "9   2024-09-02     Torasso     910         5\n",
      "10  2024-09-02     Torasso     920         3\n",
      "11  2024-09-03   Coca Cola    1020         8\n",
      "12  2024-09-03     Mirinda    1570         7\n",
      "13  2024-09-03     Mirinda    1590         2\n",
      "14  2024-09-04  Pepsi Cola    1220        13\n",
      "15  2024-09-05     Mirinda    1500         3\n",
      "16  2024-09-05  Pepsi Cola    1300         5\n",
      "17  2024-09-06   Coca Cola    1080         1\n",
      "18  2024-09-06      Sprite     860        12\n",
      "19  2024-09-06     Torasso     930         3\n",
      "20  2024-09-07   Coca Cola    1080        14\n",
      "21  2024-09-07      Sprite     870        13\n",
      "22  2024-09-08   Coca Cola    1040        10\n",
      "23  2024-09-08     Mirinda    1580         2\n",
      "24  2024-09-08  Pepsi Cola    1240         9\n",
      "25  2024-09-09     Mirinda    1500         3\n",
      "26  2024-09-09      Sprite     850         9\n",
      "27  2024-09-10     Mirinda    1590         8\n",
      "28  2024-09-10  Pepsi Cola    1250        12\n",
      "29  2024-09-11      Sprite     810         6\n",
      "30  2024-09-11      Sprite     820        14\n",
      "31  2024-09-12   Coca Cola    1080         4\n",
      "32  2024-09-13     Mirinda    1580         5\n",
      "33  2024-09-13  Pepsi Cola    1250        13\n",
      "34  2024-09-14   Coca Cola    1080        15\n",
      "35  2024-09-14  Pepsi Cola    1270        14\n",
      "36  2024-09-15   Coca Cola    1100         1\n",
      "37  2024-09-15     Mirinda    1500        13\n",
      "38  2024-09-15      Sprite     870        14\n",
      "39  2024-09-15     Torasso     900        13\n"
     ]
    }
   ],
   "source": [
    "import pandas as pd\n",
    "def cargar_datos():\n",
    "    colspecs = [(0, 10), (10, 40), (40, 50), (50, 55)]\n",
    "    column_names = [\"fecha\", \"producto\", \"precio\", \"cantidad\"]\n",
    "\n",
    "    try:\n",
    "        datos = pd.read_fwf(\"datos.dat\", colspecs=colspecs, names=column_names)\n",
    "    except FileNotFoundError:\n",
    "        print(\"El archivo datos.dat no se encuentra en la carpeta del proyecto.\")\n",
    "        return None\n",
    "\n",
    "    return datos\n",
    "\n",
    "datos = cargar_datos()\n",
    "if datos is not None:\n",
    "    print(datos)\n"
   ]
  },
  {
   "cell_type": "markdown",
   "metadata": {},
   "source": [
    "### Ejercicio 2: Calcular el total de ventas.\n",
    "Hacer una función que sume los importes vendidos (precio * cantidad) y las cantidades.\n"
   ]
  },
  {
   "cell_type": "code",
   "execution_count": null,
   "metadata": {},
   "outputs": [
    {
     "name": "stdout",
     "output_type": "stream",
     "text": [
      "Las ventas fueron de $392730.00 en 335 unidades\n"
     ]
    }
   ],
   "source": [
    "import pandas as pd\n",
    "def calcular_totales(datos):\n",
    "    datos[\"importe\"] = datos[\"precio\"] * datos[\"cantidad\"]\n",
    "\n",
    "    importe_total = datos[\"importe\"].sum()\n",
    "    cantidad_total = datos[\"cantidad\"].sum()\n",
    "    \n",
    "    return importe_total, cantidad_total\n",
    "\n",
    "importe, cantidad = calcular_totales(datos)\n",
    "\n",
    "print(f\"Las ventas fueron de ${importe:.2f} en {cantidad} unidades\")"
   ]
  },
  {
   "cell_type": "markdown",
   "metadata": {},
   "source": [
    "### Ejercicio 3: Listar las unidades vendidas.\n",
    "Listar cuántas unidades se vendieron en total para cada producto\n"
   ]
  },
  {
   "cell_type": "code",
   "execution_count": null,
   "metadata": {},
   "outputs": [
    {
     "data": {
      "text/plain": [
       "producto\n",
       "Coca Cola     57\n",
       "Mirinda       85\n",
       "Pepsi Cola    89\n",
       "Sprite        72\n",
       "Torasso       32\n",
       "Name: cantidad, dtype: int64"
      ]
     },
     "execution_count": 9,
     "metadata": {},
     "output_type": "execute_result"
    }
   ],
   "source": [
    "import pandas as pd\n",
    "def unidades_vendidas(datos):\n",
    "    resumen = datos.groupby(\"producto\")[\"cantidad\"].sum()\n",
    "    return resumen\n",
    "\n",
    "\n",
    "unidades_vendidas(datos)"
   ]
  },
  {
   "cell_type": "markdown",
   "metadata": {},
   "source": [
    "###  Ejercicio 4: Listar el precio promedio por producto.\n",
    "Hacer un listado del precio promedio por producto.\n"
   ]
  },
  {
   "cell_type": "code",
   "execution_count": null,
   "metadata": {},
   "outputs": [
    {
     "name": "stdout",
     "output_type": "stream",
     "text": [
      "producto\n",
      "Coca Cola     1072.500000\n",
      "Mirinda       1545.833333\n",
      "Pepsi Cola    1245.000000\n",
      "Sprite         841.428571\n",
      "Torasso        920.000000\n",
      "Name: precio, dtype: float64\n"
     ]
    }
   ],
   "source": [
    "import pandas as pd\n",
    "def precio_promedio(datos):\n",
    "    promedio = datos.groupby(\"producto\")[\"precio\"].mean()\n",
    "    return promedio\n",
    "\n",
    "resultado_promedio = precio_promedio(datos)\n",
    "print(resultado_promedio)"
   ]
  },
  {
   "cell_type": "markdown",
   "metadata": {},
   "source": [
    "### Ejercicio 5: Ranking de productos\n",
    "Realizar un listado de los 3 productos más vendidos ordenados por la cantidad de unidades vendidas (ordenadas de mayor a menor)\n"
   ]
  },
  {
   "cell_type": "code",
   "execution_count": null,
   "metadata": {},
   "outputs": [
    {
     "name": "stdout",
     "output_type": "stream",
     "text": [
      "producto\n",
      "Pepsi Cola    89\n",
      "Mirinda       85\n",
      "Sprite        72\n",
      "Name: cantidad, dtype: int64\n"
     ]
    }
   ],
   "source": [
    "import pandas as pd\n",
    "def ranking_productos(datos, top=3):\n",
    "    ranking = datos.groupby(\"producto\")[\"cantidad\"].sum()\n",
    "\n",
    "    ranking = ranking.sort_values(ascending=False).head(top)\n",
    "    return ranking\n",
    "\n",
    "resultado_ranking = ranking_productos(datos)\n",
    "print(resultado_ranking)"
   ]
  },
  {
   "cell_type": "markdown",
   "metadata": {},
   "source": [
    "### Ejercicio 6: Listar las ventas por mes\n",
    "Realizar un listado del total de unidades vendidas por producto separado por mes.\n"
   ]
  },
  {
   "cell_type": "code",
   "execution_count": 21,
   "metadata": {},
   "outputs": [
    {
     "name": "stdout",
     "output_type": "stream",
     "text": [
      "     producto  mes  cantidad\n",
      "0   Coca Cola    9        57\n",
      "1     Mirinda    8        27\n",
      "2     Mirinda    9        58\n",
      "3  Pepsi Cola    8        10\n",
      "4  Pepsi Cola    9        79\n",
      "5      Sprite    9        72\n",
      "6     Torasso    8         8\n",
      "7     Torasso    9        24\n"
     ]
    }
   ],
   "source": [
    "import pandas as pd\n",
    "def ventas_por_mes(datos):\n",
    "    datos[\"mes\"] = pd.to_datetime(datos[\"fecha\"]).dt.month\n",
    "\n",
    "    resumen = datos.groupby([\"producto\", \"mes\"])[\"cantidad\"].sum().reset_index()\n",
    "\n",
    "    print(resumen)\n",
    "\n",
    "ventas_por_mes(datos)"
   ]
  },
  {
   "cell_type": "markdown",
   "metadata": {},
   "source": [
    "### Ejercicio 7: Informe general\n",
    "\n",
    "Mostrar un listado de productos ordenados alfabeticamente que contengan el precio promedio, la cantidad de unidades vendidas y el importe total vendido para cada producto"
   ]
  },
  {
   "cell_type": "code",
   "execution_count": null,
   "metadata": {},
   "outputs": [
    {
     "data": {
      "text/html": [
       "<div>\n",
       "<style scoped>\n",
       "    .dataframe tbody tr th:only-of-type {\n",
       "        vertical-align: middle;\n",
       "    }\n",
       "\n",
       "    .dataframe tbody tr th {\n",
       "        vertical-align: top;\n",
       "    }\n",
       "\n",
       "    .dataframe thead th {\n",
       "        text-align: right;\n",
       "    }\n",
       "</style>\n",
       "<table border=\"1\" class=\"dataframe\">\n",
       "  <thead>\n",
       "    <tr style=\"text-align: right;\">\n",
       "      <th></th>\n",
       "      <th>Precio Promedio</th>\n",
       "      <th>Cantidad Total</th>\n",
       "      <th>Importe Total</th>\n",
       "    </tr>\n",
       "    <tr>\n",
       "      <th>producto</th>\n",
       "      <th></th>\n",
       "      <th></th>\n",
       "      <th></th>\n",
       "    </tr>\n",
       "  </thead>\n",
       "  <tbody>\n",
       "    <tr>\n",
       "      <th>Coca Cola</th>\n",
       "      <td>1072.500000</td>\n",
       "      <td>57</td>\n",
       "      <td>60780</td>\n",
       "    </tr>\n",
       "    <tr>\n",
       "      <th>Mirinda</th>\n",
       "      <td>1545.833333</td>\n",
       "      <td>85</td>\n",
       "      <td>131080</td>\n",
       "    </tr>\n",
       "    <tr>\n",
       "      <th>Pepsi Cola</th>\n",
       "      <td>1245.000000</td>\n",
       "      <td>89</td>\n",
       "      <td>110510</td>\n",
       "    </tr>\n",
       "    <tr>\n",
       "      <th>Sprite</th>\n",
       "      <td>841.428571</td>\n",
       "      <td>72</td>\n",
       "      <td>61040</td>\n",
       "    </tr>\n",
       "    <tr>\n",
       "      <th>Torasso</th>\n",
       "      <td>920.000000</td>\n",
       "      <td>32</td>\n",
       "      <td>29320</td>\n",
       "    </tr>\n",
       "  </tbody>\n",
       "</table>\n",
       "</div>"
      ],
      "text/plain": [
       "            Precio Promedio  Cantidad Total  Importe Total\n",
       "producto                                                  \n",
       "Coca Cola       1072.500000              57          60780\n",
       "Mirinda         1545.833333              85         131080\n",
       "Pepsi Cola      1245.000000              89         110510\n",
       "Sprite           841.428571              72          61040\n",
       "Torasso          920.000000              32          29320"
      ]
     },
     "execution_count": 14,
     "metadata": {},
     "output_type": "execute_result"
    }
   ],
   "source": [
    "import pandas as pd\n",
    "def resumen_ventas(datos):\n",
    "    precio_promedio = datos.groupby(\"producto\")[\"precio\"].mean()\n",
    "\n",
    "    cantidad_total = datos.groupby(\"producto\")[\"cantidad\"].sum()\n",
    "\n",
    "    datos[\"importe\"] = datos[\"precio\"] * datos[\"cantidad\"]\n",
    "    importe_total = datos.groupby(\"producto\")[\"importe\"].sum()\n",
    "\n",
    "    resumen = pd.DataFrame({\n",
    "        \"Precio Promedio\": precio_promedio,\n",
    "        \"Cantidad Total\": cantidad_total,\n",
    "        \"Importe Total\": importe_total\n",
    "    })\n",
    "\n",
    "    resumen = resumen.sort_index()\n",
    "\n",
    "    return resumen\n",
    "\n",
    "resultado_resumen = resumen_ventas(datos)\n",
    "resultado_resumen"
   ]
  },
  {
   "cell_type": "markdown",
   "metadata": {},
   "source": [
    "## `Resolver usando NumPy`\n",
    "## Resolver el ejercicio 2 del tp1 usando NumPy"
   ]
  },
  {
   "cell_type": "markdown",
   "metadata": {},
   "source": [
    "### Ejercicio 8\n",
    "\n",
    "Escribe una función en Python que encuentre los valores de `a`, `b`, y `c` para que la función cuadrática `f(x) = a x^2 + b x + c` pase exactamente por los siguientes puntos:\n",
    "\n",
    "| x  | y  |\n",
    "|---:|---:|\n",
    "|  0 |  0 |\n",
    "|  1 |  8 |\n",
    "|  2 | 12 |\n",
    "|  3 | 12 |\n",
    "|  5 |  0 |\n",
    "\n",
    "### Requisitos:\n",
    "- La función debe explorar posibles valores de `a`, `b`, y `c` utilizando un método de prueba y error.\n",
    "- Debe devolver los valores que hagan que la diferencia entre la función `f(x)` y los valores medidos `y` sea exactamente cero para cada punto.\n",
    "\n",
    "> **Pista**: Los valores de `a`, `b`, y `c` son números pequeños.\n",
    "\n",
    "La idea es implementar el mismo algoritmo que se uso en el TP1 pero usando NumPy en lugar de Python puro."
   ]
  },
  {
   "cell_type": "code",
   "execution_count": null,
   "metadata": {},
   "outputs": [
    {
     "data": {
      "text/plain": [
       "array([-2.00000000e+00,  1.00000000e+01, -9.29703539e-15])"
      ]
     },
     "execution_count": 15,
     "metadata": {},
     "output_type": "execute_result"
    }
   ],
   "source": [
    "import numpy as np\n",
    "def f(x, coeficientes):\n",
    "    a,b,c = coeficientes\n",
    "    return a*x**2 + b*x + c\n",
    "\n",
    "def error(y, y_pred):\n",
    "    return y - y_pred\n",
    "\n",
    "X = np.array([0,1,2,3,5])\n",
    "Y = np.array([0,8,12,12,0])\n",
    "\n",
    "def buscar_coeficientes():\n",
    "    A = np.vstack([X**2, X, np.ones(len(X))]).T\n",
    "\n",
    "    coeficientes, _, _, _ = np.linalg.lstsq(A, Y, rcond=None)\n",
    "    \n",
    "    return coeficientes\n",
    "\n",
    "coeficientes = buscar_coeficientes()\n",
    "coeficientes"
   ]
  },
  {
   "cell_type": "markdown",
   "metadata": {},
   "source": [
    "### Ejercicio 9: Resolver el ejercicio 3 del TP1 usando NumPy\n",
    "Buscar los coeficientes de la función que minimice la suma de los cuadrados de las diferencias entre los valores medidos y los valores de la función.\n",
    "\n",
    "1. Crear un array con los coeficientes elegidos al azar (usar `randint(-10,10,3)`).\n",
    "2. Calcular el valor de la función y el error correspondiente.\n",
    "3. Mientras que el error sea mayor a 1:\n",
    "    1. Definir nuevos coeficientes agregándoles un pequeño valor al azar a los coeficientes actuales (aprendizaje = 0.001).\n",
    "    2. Si el error para los nuevos coeficientes es menor que el anterior, reemplazar los coeficientes actuales por los nuevos.\n"
   ]
  },
  {
   "cell_type": "code",
   "execution_count": 22,
   "metadata": {},
   "outputs": [
    {
     "data": {
      "text/plain": [
       "array([ 1.84015216, -0.30350505, -0.79337585])"
      ]
     },
     "execution_count": 22,
     "metadata": {},
     "output_type": "execute_result"
    }
   ],
   "source": [
    "import numpy as np\n",
    "from numpy.random import randint\n",
    "\n",
    "def f(x, coeficientes):\n",
    "    a,b,c = coeficientes\n",
    "    return a*x**2 + b*x + c\n",
    "\n",
    "def error(y, y_pred):\n",
    "    return np.sum((y - y_pred)**2)\n",
    "\n",
    "X = np.array([0, 1, 2, 3, 5])\n",
    "Y = np.array([0, 8,12,11, 1]) # Observar que no son los mismos valores que en el ejemplo anterior\n",
    "\n",
    "def buscar_coeficientes():\n",
    "    coeficientes = np.random.randint(-10, 10, 3).astype(float)\n",
    "    aprendizaje = 0.01  \n",
    "    error_actual = np.inf \n",
    "    max_iteraciones = 10000  \n",
    "    iteraciones = 0\n",
    "\n",
    "    while error_actual > 1 and iteraciones < max_iteraciones:\n",
    "        y_pred = f(X, coeficientes)\n",
    "        error_nuevo = error(Y, y_pred)\n",
    "\n",
    "        if error_nuevo < error_actual:\n",
    "            error_actual = error_nuevo\n",
    "        else:\n",
    "\n",
    "            coeficientes += np.random.uniform(-aprendizaje, aprendizaje, 3)\n",
    "\n",
    "        iteraciones += 1  \n",
    "\n",
    "    return coeficientes\n",
    "\n",
    "coeficientes = buscar_coeficientes()\n",
    "coeficientes"
   ]
  }
 ],
 "metadata": {
  "kernelspec": {
   "display_name": "Python 3",
   "language": "python",
   "name": "python3"
  },
  "language_info": {
   "codemirror_mode": {
    "name": "ipython",
    "version": 3
   },
   "file_extension": ".py",
   "mimetype": "text/x-python",
   "name": "python",
   "nbconvert_exporter": "python",
   "pygments_lexer": "ipython3",
   "version": "3.10.11"
  }
 },
 "nbformat": 4,
 "nbformat_minor": 2
}
