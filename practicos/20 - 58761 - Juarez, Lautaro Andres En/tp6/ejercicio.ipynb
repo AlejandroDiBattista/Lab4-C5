{
 "cells": [
  {
   "cell_type": "markdown",
   "metadata": {},
   "source": [
    "# TP6\n",
    "\n",
    "### `Resolver usando Pandas`\n",
    "\n",
    "Resolver los ejercicios del TP3 utilizando la librería Pandas."
   ]
  },
  {
   "cell_type": "markdown",
   "metadata": {},
   "source": [
    "### Ejercicio 1: Cargar Datos de ventas.\n",
    "\n",
    "El archivo datos.dat contiene el registro de las ventas realizadas.\n",
    "\n",
    "Tiene un formato de ancho fijo:\n",
    "- `fecha`:    10 lugares\n",
    "- `producto`: 30 lugares\n",
    "- `precio`:   10 lugares\n",
    "- `cantidad`:  5 lugares\n",
    "\n",
    "Hacer una funcion que cargue los datos en un DataFrame de Pandas."
   ]
  },
  {
   "cell_type": "code",
   "execution_count": 28,
   "metadata": {},
   "outputs": [
    {
     "name": "stdout",
     "output_type": "stream",
     "text": [
      "        fecha    producto  precio  cantidad\n",
      "0  2024-08-27     Mirinda    1510        14\n",
      "1  2024-08-27     Mirinda    1560        12\n",
      "2  2024-08-28     Torasso     940         8\n",
      "3  2024-08-29  Pepsi Cola    1210        10\n",
      "4  2024-08-30     Mirinda    1520         1\n",
      "5  2024-09-01     Mirinda    1550        15\n",
      "6  2024-09-01      Sprite     810         4\n",
      "7  2024-09-02   Coca Cola    1100         4\n",
      "8  2024-09-02  Pepsi Cola    1220        13\n",
      "9  2024-09-02     Torasso     910         5\n",
      "10 2024-09-02     Torasso     920         3\n",
      "11 2024-09-03   Coca Cola    1020         8\n",
      "12 2024-09-03     Mirinda    1570         7\n",
      "13 2024-09-03     Mirinda    1590         2\n",
      "14 2024-09-04  Pepsi Cola    1220        13\n",
      "15 2024-09-05     Mirinda    1500         3\n",
      "16 2024-09-05  Pepsi Cola    1300         5\n",
      "17 2024-09-06   Coca Cola    1080         1\n",
      "18 2024-09-06      Sprite     860        12\n",
      "19 2024-09-06     Torasso     930         3\n",
      "20 2024-09-07   Coca Cola    1080        14\n",
      "21 2024-09-07      Sprite     870        13\n",
      "22 2024-09-08   Coca Cola    1040        10\n",
      "23 2024-09-08     Mirinda    1580         2\n",
      "24 2024-09-08  Pepsi Cola    1240         9\n",
      "25 2024-09-09     Mirinda    1500         3\n",
      "26 2024-09-09      Sprite     850         9\n",
      "27 2024-09-10     Mirinda    1590         8\n",
      "28 2024-09-10  Pepsi Cola    1250        12\n",
      "29 2024-09-11      Sprite     810         6\n",
      "30 2024-09-11      Sprite     820        14\n",
      "31 2024-09-12   Coca Cola    1080         4\n",
      "32 2024-09-13     Mirinda    1580         5\n",
      "33 2024-09-13  Pepsi Cola    1250        13\n",
      "34 2024-09-14   Coca Cola    1080        15\n",
      "35 2024-09-14  Pepsi Cola    1270        14\n",
      "36 2024-09-15   Coca Cola    1100         1\n",
      "37 2024-09-15     Mirinda    1500        13\n",
      "38 2024-09-15      Sprite     870        14\n",
      "39 2024-09-15     Torasso     900        13\n"
     ]
    }
   ],
   "source": [
    "import pandas as pd\n",
    "\n",
    "def cargar_datos():\n",
    "    # Definir las posiciones de inicio y ancho de cada columna\n",
    "    colspecs = [(0, 10), (10, 40), (40, 50), (50, 55)]  # (inicio, fin) de cada columna\n",
    "    column_names = ['fecha', 'producto', 'precio', 'cantidad']  # Nombres de las columnas\n",
    "\n",
    "    # Leer el archivo en formato de ancho fijo\n",
    "    try:\n",
    "        # Reemplazar 'datos.dat' con la ruta del archivo correspondiente\n",
    "        df = pd.read_fwf('datos.dat', colspecs=colspecs, names=column_names)\n",
    "    except FileNotFoundError:\n",
    "        print(\"Error: El archivo 'datos.dat' no se encuentra.\")\n",
    "        return None\n",
    "\n",
    "    # Convertir tipos de columnas si es necesario\n",
    "    df['fecha'] = pd.to_datetime(df['fecha'], format='%Y-%m-%d', errors='coerce')  # Formato de fecha ajustable\n",
    "    df['precio'] = pd.to_numeric(df['precio'], errors='coerce')\n",
    "    df['cantidad'] = pd.to_numeric(df['cantidad'], errors='coerce')\n",
    "\n",
    "    return df\n",
    "\n",
    "# Cargar los datos\n",
    "datos = cargar_datos()\n",
    "\n",
    "# Mostrar el DataFrame cargado\n",
    "if datos is not None:\n",
    "    print(datos)\n"
   ]
  },
  {
   "cell_type": "markdown",
   "metadata": {},
   "source": [
    "### Ejercicio 2: Calcular el total de ventas.\n",
    "Hacer una función que sume los importes vendidos (precio * cantidad) y las cantidades.\n"
   ]
  },
  {
   "cell_type": "code",
   "execution_count": 29,
   "metadata": {},
   "outputs": [
    {
     "name": "stdout",
     "output_type": "stream",
     "text": [
      "Las ventas fueron de $392730.00 en 335 unidades\n"
     ]
    }
   ],
   "source": [
    "def calcular_totales(datos):\n",
    "    # Verificar que el DataFrame no sea nulo ni esté vacío\n",
    "    if datos is None or datos.empty:\n",
    "        print(\"El DataFrame de datos está vacío o es inválido.\")\n",
    "        return 0, 0\n",
    "\n",
    "    # Calcular el total del importe (precio * cantidad)\n",
    "    datos['importe'] = datos['precio'] * datos['cantidad']  # Crear una nueva columna con los importes\n",
    "\n",
    "    # Sumar el total de los importes y las cantidades\n",
    "    total_importe = datos['importe'].sum()\n",
    "    total_cantidad = datos['cantidad'].sum()\n",
    "\n",
    "    return total_importe, total_cantidad\n",
    "\n",
    "# Calcular totales\n",
    "importe, cantidad = calcular_totales(datos)\n",
    "\n",
    "# Imprimir los resultados\n",
    "print(f\"Las ventas fueron de ${importe:.2f} en {cantidad} unidades\")\n"
   ]
  },
  {
   "cell_type": "markdown",
   "metadata": {},
   "source": [
    "### Ejercicio 3: Listar las unidades vendidas.\n",
    "Listar cuántas unidades se vendieron en total para cada producto\n"
   ]
  },
  {
   "cell_type": "code",
   "execution_count": 30,
   "metadata": {},
   "outputs": [
    {
     "name": "stdout",
     "output_type": "stream",
     "text": [
      "Unidades vendidas por producto:\n",
      "     Producto  Unidades Vendidas\n",
      "0   Coca Cola                 57\n",
      "1     Mirinda                 85\n",
      "2  Pepsi Cola                 89\n",
      "3      Sprite                 72\n",
      "4     Torasso                 32\n"
     ]
    }
   ],
   "source": [
    "def unidades_vendidas(datos):\n",
    "    # Verificar que el DataFrame no sea nulo ni esté vacío\n",
    "    if datos is None or datos.empty:\n",
    "        print(\"El DataFrame de datos está vacío o es inválido.\")\n",
    "        return\n",
    "\n",
    "    # Agrupar por producto y sumar las cantidades\n",
    "    resumen = datos.groupby('producto')['cantidad'].sum().reset_index()\n",
    "\n",
    "    # Renombrar columnas para claridad\n",
    "    resumen.columns = ['Producto', 'Unidades Vendidas']\n",
    "\n",
    "    # Mostrar el resumen\n",
    "    print(\"Unidades vendidas por producto:\")\n",
    "    print(resumen)\n",
    "\n",
    "    return resumen\n",
    "\n",
    "# Llamar a la función y mostrar los resultados\n",
    "resumen_unidades = unidades_vendidas(datos)\n"
   ]
  },
  {
   "cell_type": "markdown",
   "metadata": {},
   "source": [
    "###  Ejercicio 4: Listar el precio promedio por producto.\n",
    "Hacer un listado del precio promedio por producto.\n"
   ]
  },
  {
   "cell_type": "code",
   "execution_count": 31,
   "metadata": {},
   "outputs": [
    {
     "name": "stdout",
     "output_type": "stream",
     "text": [
      "Precio promedio por producto:\n",
      "     Producto  Precio Promedio\n",
      "0   Coca Cola      1072.500000\n",
      "1     Mirinda      1545.833333\n",
      "2  Pepsi Cola      1245.000000\n",
      "3      Sprite       841.428571\n",
      "4     Torasso       920.000000\n"
     ]
    }
   ],
   "source": [
    "def precio_promedio(datos):\n",
    "    # Verificar que el DataFrame no sea nulo ni esté vacío\n",
    "    if datos is None or datos.empty:\n",
    "        print(\"El DataFrame de datos está vacío o es inválido.\")\n",
    "        return\n",
    "\n",
    "    # Agrupar por producto y calcular el precio promedio\n",
    "    promedio = datos.groupby('producto')['precio'].mean().reset_index()\n",
    "\n",
    "    # Renombrar columnas para mayor claridad\n",
    "    promedio.columns = ['Producto', 'Precio Promedio']\n",
    "\n",
    "    # Mostrar el resultado\n",
    "    print(\"Precio promedio por producto:\")\n",
    "    print(promedio)\n",
    "\n",
    "    return promedio\n",
    "\n",
    "# Llamar a la función y mostrar los resultados\n",
    "precio_promedio_por_producto = precio_promedio(datos)\n"
   ]
  },
  {
   "cell_type": "markdown",
   "metadata": {},
   "source": [
    "### Ejercicio 5: Ranking de productos\n",
    "Realizar un listado de los 3 productos más vendidos ordenados por la cantidad de unidades vendidas (ordenadas de mayor a menor)\n"
   ]
  },
  {
   "cell_type": "code",
   "execution_count": 32,
   "metadata": {},
   "outputs": [
    {
     "name": "stdout",
     "output_type": "stream",
     "text": [
      "Top 3 productos más vendidos:\n",
      "     Producto  Unidades Vendidas\n",
      "2  Pepsi Cola                 89\n",
      "1     Mirinda                 85\n",
      "3      Sprite                 72\n"
     ]
    }
   ],
   "source": [
    "def ranking_productos(datos, top=3):\n",
    "    # Verificar que el DataFrame no sea nulo ni esté vacío\n",
    "    if datos is None or datos.empty:\n",
    "        print(\"El DataFrame de datos está vacío o es inválido.\")\n",
    "        return\n",
    "\n",
    "    # Agrupar por producto y sumar las cantidades\n",
    "    ranking = datos.groupby('producto')['cantidad'].sum().reset_index()\n",
    "\n",
    "    # Renombrar columnas para mayor claridad\n",
    "    ranking.columns = ['Producto', 'Unidades Vendidas']\n",
    "\n",
    "    # Ordenar por cantidad de unidades vendidas de mayor a menor\n",
    "    ranking = ranking.sort_values(by='Unidades Vendidas', ascending=False)\n",
    "\n",
    "    # Seleccionar los primeros `top` productos\n",
    "    ranking_top = ranking.head(top)\n",
    "\n",
    "    # Mostrar el resultado\n",
    "    print(f\"Top {top} productos más vendidos:\")\n",
    "    print(ranking_top)\n",
    "\n",
    "    return ranking_top\n",
    "\n",
    "# Llamar a la función y mostrar los resultados\n",
    "ranking_top_productos = ranking_productos(datos)\n"
   ]
  },
  {
   "cell_type": "markdown",
   "metadata": {},
   "source": [
    "### Ejercicio 6: Listar las ventas por mes\n",
    "Realizar un listado del total de unidades vendidas por producto separado por mes.\n"
   ]
  },
  {
   "cell_type": "code",
   "execution_count": 33,
   "metadata": {},
   "outputs": [
    {
     "name": "stdout",
     "output_type": "stream",
     "text": [
      "Ventas por mes:\n",
      "       Mes    Producto  Unidades Vendidas\n",
      "0  2024-08     Mirinda                 27\n",
      "1  2024-08  Pepsi Cola                 10\n",
      "2  2024-08     Torasso                  8\n",
      "3  2024-09   Coca Cola                 57\n",
      "4  2024-09     Mirinda                 58\n",
      "5  2024-09  Pepsi Cola                 79\n",
      "6  2024-09      Sprite                 72\n",
      "7  2024-09     Torasso                 24\n"
     ]
    }
   ],
   "source": [
    "def ventas_por_mes(datos):\n",
    "    # Verificar que el DataFrame no sea nulo ni esté vacío\n",
    "    if datos is None or datos.empty:\n",
    "        print(\"El DataFrame de datos está vacío o es inválido.\")\n",
    "        return\n",
    "\n",
    "    # Asegurarse de que la columna 'fecha' sea de tipo datetime\n",
    "    if not pd.api.types.is_datetime64_any_dtype(datos['fecha']):\n",
    "        datos['fecha'] = pd.to_datetime(datos['fecha'], errors='coerce')\n",
    "\n",
    "    # Crear una nueva columna con el año y mes\n",
    "    datos['mes'] = datos['fecha'].dt.to_period('M')  # Extraer año y mes como periodo\n",
    "\n",
    "    # Agrupar por mes y producto, y sumar las cantidades\n",
    "    ventas_mensuales = datos.groupby(['mes', 'producto'])['cantidad'].sum().reset_index()\n",
    "\n",
    "    # Renombrar columnas para claridad\n",
    "    ventas_mensuales.columns = ['Mes', 'Producto', 'Unidades Vendidas']\n",
    "\n",
    "    # Mostrar el resultado\n",
    "    print(\"Ventas por mes:\")\n",
    "    print(ventas_mensuales)\n",
    "\n",
    "    return ventas_mensuales\n",
    "\n",
    "# Llamar a la función y mostrar los resultados\n",
    "ventas_mensuales_por_producto = ventas_por_mes(datos)\n"
   ]
  },
  {
   "cell_type": "markdown",
   "metadata": {},
   "source": [
    "### Ejercicio 7: Informe general\n",
    "\n",
    "Mostrar un listado de productos ordenados alfabeticamente que contengan el precio promedio, la cantidad de unidades vendidas y el importe total vendido para cada producto"
   ]
  },
  {
   "cell_type": "code",
   "execution_count": 34,
   "metadata": {},
   "outputs": [
    {
     "name": "stdout",
     "output_type": "stream",
     "text": [
      "Informe general de ventas:\n",
      "     producto  precio_promedio  unidades_vendidas  importe_total\n",
      "0   Coca Cola      1072.500000                 57          60780\n",
      "1     Mirinda      1545.833333                 85         131080\n",
      "2  Pepsi Cola      1245.000000                 89         110510\n",
      "3      Sprite       841.428571                 72          61040\n",
      "4     Torasso       920.000000                 32          29320\n"
     ]
    }
   ],
   "source": [
    "def resumen_ventas(datos):\n",
    "    # Verificar que el DataFrame no sea nulo ni esté vacío\n",
    "    if datos is None or datos.empty:\n",
    "        print(\"El DataFrame de datos está vacío o es inválido.\")\n",
    "        return\n",
    "\n",
    "    # Asegurarse de que la columna 'importe' exista o calcularla\n",
    "    if 'importe' not in datos.columns:\n",
    "        datos['importe'] = datos['precio'] * datos['cantidad']\n",
    "\n",
    "    # Agrupar por producto y calcular las métricas solicitadas\n",
    "    resumen = datos.groupby('producto').agg(\n",
    "        precio_promedio=('precio', 'mean'),\n",
    "        unidades_vendidas=('cantidad', 'sum'),\n",
    "        importe_total=('importe', 'sum')\n",
    "    ).reset_index()\n",
    "\n",
    "    # Ordenar los resultados por nombre del producto alfabéticamente\n",
    "    resumen = resumen.sort_values(by='producto')\n",
    "\n",
    "    # Mostrar el resultado\n",
    "    print(\"Informe general de ventas:\")\n",
    "    print(resumen)\n",
    "\n",
    "    return resumen\n",
    "\n",
    "# Llamar a la función y mostrar los resultados\n",
    "informe_general = resumen_ventas(datos)\n"
   ]
  },
  {
   "cell_type": "markdown",
   "metadata": {},
   "source": [
    "## `Resolver usando NumPy`\n",
    "## Resolver el ejercicio 2 del tp1 usando NumPy"
   ]
  },
  {
   "cell_type": "markdown",
   "metadata": {},
   "source": [
    "### Ejercicio 8\n",
    "\n",
    "Escribe una función en Python que encuentre los valores de `a`, `b`, y `c` para que la función cuadrática `f(x) = a x^2 + b x + c` pase exactamente por los siguientes puntos:\n",
    "\n",
    "| x  | y  |\n",
    "|---:|---:|\n",
    "|  0 |  0 |\n",
    "|  1 |  8 |\n",
    "|  2 | 12 |\n",
    "|  3 | 12 |\n",
    "|  5 |  0 |\n",
    "\n",
    "### Requisitos:\n",
    "- La función debe explorar posibles valores de `a`, `b`, y `c` utilizando un método de prueba y error.\n",
    "- Debe devolver los valores que hagan que la diferencia entre la función `f(x)` y los valores medidos `y` sea exactamente cero para cada punto.\n",
    "\n",
    "> **Pista**: Los valores de `a`, `b`, y `c` son números pequeños.\n",
    "\n",
    "La idea es implementar el mismo algoritmo que se uso en el TP1 pero usando NumPy en lugar de Python puro."
   ]
  },
  {
   "cell_type": "code",
   "execution_count": 35,
   "metadata": {},
   "outputs": [
    {
     "name": "stdout",
     "output_type": "stream",
     "text": [
      "Coeficientes encontrados:\n",
      "a = -2.00, b = 10.00, c = -0.00\n"
     ]
    }
   ],
   "source": [
    "import numpy as np\n",
    "\n",
    "# Puntos dados\n",
    "X = np.array([0, 1, 2, 3, 5])\n",
    "Y = np.array([0, 8, 12, 12, 0])\n",
    "\n",
    "def buscar_coeficientes():\n",
    "    # Crear la matriz del sistema de ecuaciones\n",
    "    A = np.vstack([X**2, X, np.ones_like(X)]).T  # Matriz [x^2, x, 1]\n",
    "\n",
    "    # Resolver el sistema usando mínimos cuadrados\n",
    "    coeficientes, _, _, _ = np.linalg.lstsq(A, Y, rcond=None)\n",
    "    \n",
    "    return coeficientes\n",
    "\n",
    "# Buscar los coeficientes\n",
    "coeficientes = buscar_coeficientes()\n",
    "\n",
    "# Mostrar los coeficientes encontrados\n",
    "print(\"Coeficientes encontrados:\")\n",
    "print(f\"a = {coeficientes[0]:.2f}, b = {coeficientes[1]:.2f}, c = {coeficientes[2]:.2f}\")\n"
   ]
  },
  {
   "cell_type": "markdown",
   "metadata": {},
   "source": [
    "### Ejercicio 9: Resolver el ejercicio 3 del TP1 usando NumPy\n",
    "Buscar los coeficientes de la función que minimice la suma de los cuadrados de las diferencias entre los valores medidos y los valores de la función.\n",
    "\n",
    "1. Crear un array con los coeficientes elegidos al azar (usar `randint(-10,10,3)`).\n",
    "2. Calcular el valor de la función y el error correspondiente.\n",
    "3. Mientras que el error sea mayor a 1:\n",
    "    1. Definir nuevos coeficientes agregándoles un pequeño valor al azar a los coeficientes actuales (aprendizaje = 0.001).\n",
    "    2. Si el error para los nuevos coeficientes es menor que el anterior, reemplazar los coeficientes actuales por los nuevos.\n"
   ]
  },
  {
   "cell_type": "code",
   "execution_count": 36,
   "metadata": {},
   "outputs": [
    {
     "name": "stdout",
     "output_type": "stream",
     "text": [
      "Coeficientes encontrados:\n",
      "a = -1.77902, b = 8.95685, c = 0.62097\n"
     ]
    }
   ],
   "source": [
    "import numpy as np\n",
    "from numpy.random import randint\n",
    "\n",
    "# Definir la función cuadrática\n",
    "def f(x, coeficientes):\n",
    "    a, b, c = coeficientes\n",
    "    return a * x**2 + b * x + c\n",
    "\n",
    "# Definir la función de error como la suma de los cuadrados de las diferencias\n",
    "def error(y, y_pred):\n",
    "    return np.sum((y - y_pred)**2)\n",
    "\n",
    "# Puntos dados\n",
    "X = np.array([0, 1, 2, 3, 5])\n",
    "Y = np.array([0, 8, 12, 11, 1])\n",
    "\n",
    "# Búsqueda de coeficientes que minimicen el error\n",
    "def buscar_coeficientes():\n",
    "    # Inicializar coeficientes aleatorios entre -10 y 10\n",
    "    coeficientes = randint(-10, 10, 3)\n",
    "\n",
    "    # Calcular el error inicial\n",
    "    y_pred = f(X, coeficientes)\n",
    "    e_actual = error(Y, y_pred)\n",
    "\n",
    "    aprendizaje = 0.001  # Pequeño ajuste aleatorio para cada iteración\n",
    "\n",
    "    while e_actual > 1:\n",
    "        # Generar nuevos coeficientes agregando un pequeño valor aleatorio\n",
    "        nuevos_coeficientes = coeficientes + np.random.uniform(-aprendizaje, aprendizaje, 3)\n",
    "\n",
    "        # Calcular el error para los nuevos coeficientes\n",
    "        y_pred_nuevo = f(X, nuevos_coeficientes)\n",
    "        e_nuevo = error(Y, y_pred_nuevo)\n",
    "\n",
    "        # Si el error mejora, actualizar los coeficientes\n",
    "        if e_nuevo < e_actual:\n",
    "            coeficientes = nuevos_coeficientes\n",
    "            e_actual = e_nuevo\n",
    "\n",
    "    return coeficientes\n",
    "\n",
    "# Buscar los coeficientes\n",
    "coeficientes = buscar_coeficientes()\n",
    "\n",
    "# Mostrar los coeficientes encontrados\n",
    "print(\"Coeficientes encontrados:\")\n",
    "print(f\"a = {coeficientes[0]:.5f}, b = {coeficientes[1]:.5f}, c = {coeficientes[2]:.5f}\")\n"
   ]
  }
 ],
 "metadata": {
  "kernelspec": {
   "display_name": "Python 3",
   "language": "python",
   "name": "python3"
  },
  "language_info": {
   "codemirror_mode": {
    "name": "ipython",
    "version": 3
   },
   "file_extension": ".py",
   "mimetype": "text/x-python",
   "name": "python",
   "nbconvert_exporter": "python",
   "pygments_lexer": "ipython3",
   "version": "3.10.4"
  }
 },
 "nbformat": 4,
 "nbformat_minor": 2
}
