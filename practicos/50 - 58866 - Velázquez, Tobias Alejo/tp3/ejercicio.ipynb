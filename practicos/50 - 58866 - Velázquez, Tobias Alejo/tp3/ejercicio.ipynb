{
 "cells": [
  {
   "cell_type": "markdown",
   "metadata": {},
   "source": [
    "#TP3"
   ]
  },
  {
   "cell_type": "markdown",
   "metadata": {},
   "source": [
    "## Ejercicio 1: Cargar Datos de ventas.\n",
    "\n",
    "El archivo datos.dat contiene el registro de las ventas realizadas.\n",
    "\n",
    "Tiene un formato de ancho fijo:\n",
    "- fecha:    10 lugares\n",
    "- producto: 30 lugares\n",
    "- precio:   10 lugares\n",
    "- cantidad:  5 lugares\n",
    "\n",
    "hacer una funcion que carge los en una lista de diccionarios. \n",
    "\n",
    "nota: con \n",
    "```python\n",
    "lineas = open(\"datos.dat\", \"r\").readlines() \n",
    "```\n",
    "puede obtener la lista de string de todos los datos "
   ]
  },
  {
   "cell_type": "code",
   "execution_count": 3,
   "metadata": {},
   "outputs": [
    {
     "name": "stdout",
     "output_type": "stream",
     "text": [
      "[{'fecha': '2024-08-27', 'producto': 'Mirinda', 'precio': 1510.0, 'cantidad': 14}, {'fecha': '2024-08-27', 'producto': 'Mirinda', 'precio': 1560.0, 'cantidad': 12}, {'fecha': '2024-08-28', 'producto': 'Torasso', 'precio': 940.0, 'cantidad': 8}, {'fecha': '2024-08-29', 'producto': 'Pepsi Cola', 'precio': 1210.0, 'cantidad': 10}, {'fecha': '2024-08-30', 'producto': 'Mirinda', 'precio': 1520.0, 'cantidad': 1}, {'fecha': '2024-09-01', 'producto': 'Mirinda', 'precio': 1550.0, 'cantidad': 15}, {'fecha': '2024-09-01', 'producto': 'Sprite', 'precio': 810.0, 'cantidad': 4}, {'fecha': '2024-09-02', 'producto': 'Coca Cola', 'precio': 1100.0, 'cantidad': 4}, {'fecha': '2024-09-02', 'producto': 'Pepsi Cola', 'precio': 1220.0, 'cantidad': 13}, {'fecha': '2024-09-02', 'producto': 'Torasso', 'precio': 910.0, 'cantidad': 5}, {'fecha': '2024-09-02', 'producto': 'Torasso', 'precio': 920.0, 'cantidad': 3}, {'fecha': '2024-09-03', 'producto': 'Coca Cola', 'precio': 1020.0, 'cantidad': 8}, {'fecha': '2024-09-03', 'producto': 'Mirinda', 'precio': 1570.0, 'cantidad': 7}, {'fecha': '2024-09-03', 'producto': 'Mirinda', 'precio': 1590.0, 'cantidad': 2}, {'fecha': '2024-09-04', 'producto': 'Pepsi Cola', 'precio': 1220.0, 'cantidad': 13}, {'fecha': '2024-09-05', 'producto': 'Mirinda', 'precio': 1500.0, 'cantidad': 3}, {'fecha': '2024-09-05', 'producto': 'Pepsi Cola', 'precio': 1300.0, 'cantidad': 5}, {'fecha': '2024-09-06', 'producto': 'Coca Cola', 'precio': 1080.0, 'cantidad': 1}, {'fecha': '2024-09-06', 'producto': 'Sprite', 'precio': 860.0, 'cantidad': 12}, {'fecha': '2024-09-06', 'producto': 'Torasso', 'precio': 930.0, 'cantidad': 3}, {'fecha': '2024-09-07', 'producto': 'Coca Cola', 'precio': 1080.0, 'cantidad': 14}, {'fecha': '2024-09-07', 'producto': 'Sprite', 'precio': 870.0, 'cantidad': 13}, {'fecha': '2024-09-08', 'producto': 'Coca Cola', 'precio': 1040.0, 'cantidad': 10}, {'fecha': '2024-09-08', 'producto': 'Mirinda', 'precio': 1580.0, 'cantidad': 2}, {'fecha': '2024-09-08', 'producto': 'Pepsi Cola', 'precio': 1240.0, 'cantidad': 9}, {'fecha': '2024-09-09', 'producto': 'Mirinda', 'precio': 1500.0, 'cantidad': 3}, {'fecha': '2024-09-09', 'producto': 'Sprite', 'precio': 850.0, 'cantidad': 9}, {'fecha': '2024-09-10', 'producto': 'Mirinda', 'precio': 1590.0, 'cantidad': 8}, {'fecha': '2024-09-10', 'producto': 'Pepsi Cola', 'precio': 1250.0, 'cantidad': 12}, {'fecha': '2024-09-11', 'producto': 'Sprite', 'precio': 810.0, 'cantidad': 6}, {'fecha': '2024-09-11', 'producto': 'Sprite', 'precio': 820.0, 'cantidad': 14}, {'fecha': '2024-09-12', 'producto': 'Coca Cola', 'precio': 1080.0, 'cantidad': 4}, {'fecha': '2024-09-13', 'producto': 'Mirinda', 'precio': 1580.0, 'cantidad': 5}, {'fecha': '2024-09-13', 'producto': 'Pepsi Cola', 'precio': 1250.0, 'cantidad': 13}, {'fecha': '2024-09-14', 'producto': 'Coca Cola', 'precio': 1080.0, 'cantidad': 15}, {'fecha': '2024-09-14', 'producto': 'Pepsi Cola', 'precio': 1270.0, 'cantidad': 14}, {'fecha': '2024-09-15', 'producto': 'Coca Cola', 'precio': 1100.0, 'cantidad': 1}, {'fecha': '2024-09-15', 'producto': 'Mirinda', 'precio': 1500.0, 'cantidad': 13}, {'fecha': '2024-09-15', 'producto': 'Sprite', 'precio': 870.0, 'cantidad': 14}, {'fecha': '2024-09-15', 'producto': 'Torasso', 'precio': 900.0, 'cantidad': 13}]\n"
     ]
    }
   ],
   "source": [
    "def cargar_datos_ventas(nombre_archivo):\n",
    "    lineas = open(nombre_archivo, \"r\").readlines()\n",
    "    \n",
    "    datos_ventas = []\n",
    "\n",
    "    for linea in lineas:\n",
    "        fecha = linea[0:10].strip()  \n",
    "        producto = linea[10:40].strip()     \n",
    "        precio = float(linea[40:50].strip())\n",
    "        cantidad = int(linea[50:55].strip()) \n",
    "\n",
    "        venta = {\n",
    "            \"fecha\": fecha,\n",
    "            \"producto\": producto,\n",
    "            \"precio\": precio,\n",
    "            \"cantidad\": cantidad\n",
    "        }\n",
    "\n",
    "        datos_ventas.append(venta)\n",
    "\n",
    "    return datos_ventas\n",
    "\n",
    "ventas = cargar_datos_ventas(\"datos.dat\")\n",
    "print(ventas)\n"
   ]
  },
  {
   "cell_type": "markdown",
   "metadata": {},
   "source": [
    "## Ejercicio 2: Calcular el total de ventas.\n",
    "\n",
    "Hacer una funcion que sume los importes vendidos (precio * cantidad) y las cantidades"
   ]
  },
  {
   "cell_type": "code",
   "execution_count": 4,
   "metadata": {},
   "outputs": [
    {
     "name": "stdout",
     "output_type": "stream",
     "text": [
      "Total importe vendido: 392730.00\n",
      "Total cantidad vendida: 335\n"
     ]
    }
   ],
   "source": [
    "def calcular_totales(ventas):\n",
    "    total_importe = 0.0\n",
    "    total_cantidad = 0  \n",
    "\n",
    "    for venta in ventas:\n",
    "        importe = venta[\"precio\"] * venta[\"cantidad\"]\n",
    "        total_importe += importe\n",
    "        total_cantidad += venta[\"cantidad\"]\n",
    "\n",
    "    return total_importe, total_cantidad \n",
    "\n",
    "ventas = cargar_datos_ventas(\"datos.dat\")\n",
    "total_importe, total_cantidad = calcular_totales(ventas)\n",
    "\n",
    "print(f\"Total importe vendido: {total_importe:.2f}\")\n",
    "print(f\"Total cantidad vendida: {total_cantidad}\")  \n"
   ]
  },
  {
   "cell_type": "markdown",
   "metadata": {},
   "source": [
    "## Ejercicio 3: Listar las unidades vendidas.\n",
    "\n",
    "Listar cuantas unidades se vendieron en total para cada producto"
   ]
  },
  {
   "cell_type": "code",
   "execution_count": 5,
   "metadata": {},
   "outputs": [
    {
     "name": "stdout",
     "output_type": "stream",
     "text": [
      "Producto: Mirinda, Unidades vendidas: 85\n",
      "Producto: Torasso, Unidades vendidas: 32\n",
      "Producto: Pepsi Cola, Unidades vendidas: 89\n",
      "Producto: Sprite, Unidades vendidas: 72\n",
      "Producto: Coca Cola, Unidades vendidas: 57\n"
     ]
    }
   ],
   "source": [
    "def listar_unidades_vendidas(ventas):\n",
    "    unidades_vendidas = {}\n",
    "\n",
    "    for venta in ventas:\n",
    "        producto = venta[\"producto\"]\n",
    "        cantidad = venta[\"cantidad\"]\n",
    "\n",
    "        if producto in unidades_vendidas:\n",
    "            unidades_vendidas[producto] += cantidad\n",
    "        else:\n",
    "            unidades_vendidas[producto] = cantidad\n",
    "\n",
    "    return unidades_vendidas\n",
    "\n",
    "ventas = cargar_datos_ventas(\"datos.dat\")\n",
    "unidades_vendidas = listar_unidades_vendidas(ventas) \n",
    "\n",
    "for producto, cantidad in unidades_vendidas.items():\n",
    "    print(f\"Producto: {producto}, Unidades vendidas: {cantidad}\")\n"
   ]
  },
  {
   "cell_type": "markdown",
   "metadata": {},
   "source": [
    "##  Ejercicio 4: Listar el precio promedio por producto.\n",
    "\n",
    "Hacer un listado del precio promedio por productos."
   ]
  },
  {
   "cell_type": "code",
   "execution_count": 6,
   "metadata": {},
   "outputs": [
    {
     "name": "stdout",
     "output_type": "stream",
     "text": [
      "Producto: Mirinda, Precio promedio: 1542.12\n",
      "Producto: Torasso, Precio promedio: 916.25\n",
      "Producto: Pepsi Cola, Precio promedio: 1241.69\n",
      "Producto: Sprite, Precio promedio: 847.78\n",
      "Producto: Coca Cola, Precio promedio: 1066.32\n"
     ]
    }
   ],
   "source": [
    "def listar_precio_promedio(ventas):\n",
    "    precios_totales = {}\n",
    "    cantidades_totales = {}\n",
    "\n",
    "    for venta in ventas:\n",
    "        producto = venta[\"producto\"]\n",
    "        precio = venta[\"precio\"]\n",
    "        cantidad = venta[\"cantidad\"]\n",
    "\n",
    "        if producto in precios_totales:\n",
    "            precios_totales[producto] += precio * cantidad\n",
    "            cantidades_totales[producto] += cantidad\n",
    "        else:\n",
    "            precios_totales[producto] = precio * cantidad\n",
    "            cantidades_totales[producto] = cantidad\n",
    "\n",
    "    precios_promedios = {}\n",
    "    for producto in precios_totales:\n",
    "        precios_promedios[producto] = precios_totales[producto] / cantidades_totales[producto]\n",
    "\n",
    "    return precios_promedios\n",
    "\n",
    "ventas = cargar_datos_ventas(\"datos.dat\")\n",
    "precios_promedios = listar_precio_promedio(ventas)\n",
    "\n",
    "for producto, precio_promedio in precios_promedios.items():\n",
    "    print(f\"Producto: {producto}, Precio promedio: {precio_promedio:.2f}\")\n"
   ]
  },
  {
   "cell_type": "markdown",
   "metadata": {},
   "source": [
    "### Ejercicio 5: Ranking de productos\n",
    "\n",
    "Realizar un listado de los 3 productos mas vendidos ordenados la cantidad de unidades vendidas (ordenadas de mayor a menor)\n"
   ]
  },
  {
   "cell_type": "code",
   "execution_count": 7,
   "metadata": {},
   "outputs": [
    {
     "name": "stdout",
     "output_type": "stream",
     "text": [
      "Ranking de los 3 productos más vendidos:\n",
      "Producto: Pepsi Cola, Unidades vendidas: 89\n",
      "Producto: Mirinda, Unidades vendidas: 85\n",
      "Producto: Sprite, Unidades vendidas: 72\n"
     ]
    }
   ],
   "source": [
    "def ranking_productos_mas_vendidos(ventas):\n",
    "    unidades_vendidas = {}\n",
    "\n",
    "    for venta in ventas:\n",
    "        producto = venta[\"producto\"]\n",
    "        cantidad = venta[\"cantidad\"]\n",
    "\n",
    "        if producto in unidades_vendidas:\n",
    "            unidades_vendidas[producto] += cantidad\n",
    "        else:\n",
    "            unidades_vendidas[producto] = cantidad\n",
    "\n",
    "    ranking = sorted(unidades_vendidas.items(), key=lambda x: x[1], reverse=True)\n",
    "\n",
    "    top_tres_productos = ranking[:3]\n",
    "\n",
    "    return top_tres_productos\n",
    "\n",
    "ventas = cargar_datos_ventas(\"datos.dat\")\n",
    "top_tres = ranking_productos_mas_vendidos(ventas)\n",
    "\n",
    "print(\"Ranking de los 3 productos más vendidos:\")\n",
    "for producto, cantidad in top_tres:\n",
    "    print(f\"Producto: {producto}, Unidades vendidas: {cantidad}\")\n"
   ]
  },
  {
   "cell_type": "markdown",
   "metadata": {},
   "source": [
    "### Ejercicio 6: Listar las ventas por mes\n",
    "\n",
    "Realizar un listado del total de unidades vendidas por productos separada por mes."
   ]
  },
  {
   "cell_type": "code",
   "execution_count": 8,
   "metadata": {},
   "outputs": [
    {
     "name": "stdout",
     "output_type": "stream",
     "text": [
      "Ventas por mes:\n",
      "Mes: 08\n",
      "  Producto: Mirinda, Unidades vendidas: 27\n",
      "  Producto: Torasso, Unidades vendidas: 8\n",
      "  Producto: Pepsi Cola, Unidades vendidas: 10\n",
      "Mes: 09\n",
      "  Producto: Mirinda, Unidades vendidas: 58\n",
      "  Producto: Sprite, Unidades vendidas: 72\n",
      "  Producto: Coca Cola, Unidades vendidas: 57\n",
      "  Producto: Pepsi Cola, Unidades vendidas: 79\n",
      "  Producto: Torasso, Unidades vendidas: 24\n"
     ]
    }
   ],
   "source": [
    "def listar_ventas_por_mes(ventas):\n",
    "    ventas_por_mes = {} \n",
    "\n",
    "    for venta in ventas:\n",
    "        fecha = venta[\"fecha\"].strip()\n",
    "        producto = venta[\"producto\"].strip()\n",
    "        cantidad = venta[\"cantidad\"]\n",
    "        \n",
    "        mes = fecha[5:7]\n",
    "\n",
    "        if mes not in ventas_por_mes:\n",
    "            ventas_por_mes[mes] = {}\n",
    "\n",
    "        if producto in ventas_por_mes[mes]:\n",
    "            ventas_por_mes[mes][producto] += cantidad\n",
    "        else:\n",
    "            ventas_por_mes[mes][producto] = cantidad\n",
    "\n",
    "    return ventas_por_mes\n",
    "\n",
    "ventas = cargar_datos_ventas(\"datos.dat\")\n",
    "ventas_por_mes = listar_ventas_por_mes(ventas)\n",
    "\n",
    "print(\"Ventas por mes:\")\n",
    "for mes, productos in ventas_por_mes.items():\n",
    "    print(f\"Mes: {mes}\")\n",
    "    for producto, cantidad in productos.items():\n",
    "        print(f\"  Producto: {producto}, Unidades vendidas: {cantidad}\")\n"
   ]
  },
  {
   "cell_type": "markdown",
   "metadata": {},
   "source": [
    "### Ejercicio 7: Informe general\n",
    "\n",
    "Mostrar un listado de productos ordenados alfabeticamente que contengan el precio promedio, la cantidad de unidades vendidas y el importe total vendido para cada producto"
   ]
  },
  {
   "cell_type": "code",
   "execution_count": 9,
   "metadata": {},
   "outputs": [
    {
     "name": "stdout",
     "output_type": "stream",
     "text": [
      "Informe general de productos:\n",
      "Producto: Coca Cola\n",
      "  Precio promedio: 1066.32\n",
      "  Unidades vendidas: 57\n",
      "  Importe total vendido: 60780.00\n",
      "Producto: Mirinda\n",
      "  Precio promedio: 1542.12\n",
      "  Unidades vendidas: 85\n",
      "  Importe total vendido: 131080.00\n",
      "Producto: Pepsi Cola\n",
      "  Precio promedio: 1241.69\n",
      "  Unidades vendidas: 89\n",
      "  Importe total vendido: 110510.00\n",
      "Producto: Sprite\n",
      "  Precio promedio: 847.78\n",
      "  Unidades vendidas: 72\n",
      "  Importe total vendido: 61040.00\n",
      "Producto: Torasso\n",
      "  Precio promedio: 916.25\n",
      "  Unidades vendidas: 32\n",
      "  Importe total vendido: 29320.00\n"
     ]
    }
   ],
   "source": [
    "def informe_general(ventas):\n",
    "    precios_totales = {}\n",
    "    cantidades_totales = {}\n",
    "    \n",
    "    for venta in ventas:\n",
    "        producto = venta[\"producto\"].strip()\n",
    "        precio = venta[\"precio\"]\n",
    "        cantidad = venta[\"cantidad\"]\n",
    "\n",
    "        if producto in precios_totales:\n",
    "            precios_totales[producto] += precio * cantidad\n",
    "            cantidades_totales[producto] += cantidad\n",
    "        else:\n",
    "            precios_totales[producto] = precio * cantidad\n",
    "            cantidades_totales[producto] = cantidad\n",
    "\n",
    "    informe = {}\n",
    "    for producto in precios_totales:\n",
    "        precio_promedio = precios_totales[producto] / cantidades_totales[producto]\n",
    "        importe_total = precios_totales[producto]\n",
    "        unidades_vendidas = cantidades_totales[producto]\n",
    "        informe[producto] = {\n",
    "            \"precio_promedio\": precio_promedio,\n",
    "            \"unidades_vendidas\": unidades_vendidas,\n",
    "            \"importe_total\": importe_total\n",
    "        }\n",
    "\n",
    "    informe_ordenado = dict(sorted(informe.items()))\n",
    "\n",
    "    return informe_ordenado\n",
    "\n",
    "ventas = cargar_datos_ventas(\"datos.dat\")\n",
    "informe = informe_general(ventas)\n",
    "\n",
    "print(\"Informe general de productos:\")\n",
    "for producto, datos in informe.items():\n",
    "    print(f\"Producto: {producto}\")\n",
    "    print(f\"  Precio promedio: {datos['precio_promedio']:.2f}\")\n",
    "    print(f\"  Unidades vendidas: {datos['unidades_vendidas']}\")\n",
    "    print(f\"  Importe total vendido: {datos['importe_total']:.2f}\")\n"
   ]
  }
 ],
 "metadata": {
  "kernelspec": {
   "display_name": "Python 3",
   "language": "python",
   "name": "python3"
  },
  "language_info": {
   "codemirror_mode": {
    "name": "ipython",
    "version": 3
   },
   "file_extension": ".py",
   "mimetype": "text/x-python",
   "name": "python",
   "nbconvert_exporter": "python",
   "pygments_lexer": "ipython3",
   "version": "3.11.9"
  }
 },
 "nbformat": 4,
 "nbformat_minor": 2
}
